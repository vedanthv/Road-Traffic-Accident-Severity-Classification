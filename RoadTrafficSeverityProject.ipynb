{
 "cells": [
  {
   "cell_type": "markdown",
   "metadata": {},
   "source": [
    "# Road Traffic Severity Classification"
   ]
  },
  {
   "cell_type": "markdown",
   "metadata": {},
   "source": [
    "![](road_traffic.jpg)"
   ]
  },
  {
   "cell_type": "markdown",
   "metadata": {},
   "source": [
    "## Problem Description"
   ]
  },
  {
   "cell_type": "markdown",
   "metadata": {},
   "source": [
    "Every year the lives of approximately 1.3 million people are cut short as a result of a road traffic crash. Between 20 and 50 million more people suffer non-fatal injuries, with many incurring a disability as a result of their injury.\n",
    "\n",
    "Road traffic injuries cause considerable economic losses to individuals, their families, and to nations as a whole. These losses arise from the cost of treatment as well as lost productivity for those killed or disabled by their injuries, and for family members who need to take time off work or school to care for the injured.\n",
    "This data set is collected from Addis Ababa Sub-city police departments for master's research work. The data set has been prepared from manual records of road traffic accidents of the year 2017-20. All the sensitive information has been excluded during data encoding and finally it has 32 features and 12316 instances of the accident. Then it is preprocessed and for identification of major causes of the accident by analyzing it using different machine learning classification algorithms. "
   ]
  },
  {
   "cell_type": "markdown",
   "metadata": {},
   "source": [
    "## 1. Loading The Libraries"
   ]
  },
  {
   "cell_type": "code",
   "execution_count": 1,
   "metadata": {},
   "outputs": [],
   "source": [
    "from IPython.display import Image\n",
    "import pandas as pd\n",
    "import numpy as np\n",
    "import matplotlib.pyplot as plt\n",
    "import seaborn as sns"
   ]
  },
  {
   "cell_type": "markdown",
   "metadata": {},
   "source": [
    "## 2. Data Exploration and  Preprocessing"
   ]
  },
  {
   "cell_type": "code",
   "execution_count": 2,
   "metadata": {},
   "outputs": [],
   "source": [
    "df = pd.read_csv('dataset.csv')"
   ]
  },
  {
   "cell_type": "markdown",
   "metadata": {},
   "source": [
    "#### What are the dimensions of the dataset?"
   ]
  },
  {
   "cell_type": "code",
   "execution_count": 3,
   "metadata": {},
   "outputs": [
    {
     "data": {
      "text/plain": [
       "(12316, 32)"
      ]
     },
     "execution_count": 3,
     "metadata": {},
     "output_type": "execute_result"
    }
   ],
   "source": [
    "df.shape"
   ]
  },
  {
   "cell_type": "markdown",
   "metadata": {},
   "source": [
    "There are 12,316 records and 32 attributes"
   ]
  },
  {
   "cell_type": "code",
   "execution_count": 4,
   "metadata": {},
   "outputs": [
    {
     "data": {
      "text/html": [
       "<div>\n",
       "<style scoped>\n",
       "    .dataframe tbody tr th:only-of-type {\n",
       "        vertical-align: middle;\n",
       "    }\n",
       "\n",
       "    .dataframe tbody tr th {\n",
       "        vertical-align: top;\n",
       "    }\n",
       "\n",
       "    .dataframe thead th {\n",
       "        text-align: right;\n",
       "    }\n",
       "</style>\n",
       "<table border=\"1\" class=\"dataframe\">\n",
       "  <thead>\n",
       "    <tr style=\"text-align: right;\">\n",
       "      <th></th>\n",
       "      <th>Time</th>\n",
       "      <th>Day_of_week</th>\n",
       "      <th>Age_band_of_driver</th>\n",
       "      <th>Sex_of_driver</th>\n",
       "      <th>Educational_level</th>\n",
       "      <th>Vehicle_driver_relation</th>\n",
       "      <th>Driving_experience</th>\n",
       "      <th>Type_of_vehicle</th>\n",
       "      <th>Owner_of_vehicle</th>\n",
       "      <th>Service_year_of_vehicle</th>\n",
       "      <th>...</th>\n",
       "      <th>Vehicle_movement</th>\n",
       "      <th>Casualty_class</th>\n",
       "      <th>Sex_of_casualty</th>\n",
       "      <th>Age_band_of_casualty</th>\n",
       "      <th>Casualty_severity</th>\n",
       "      <th>Work_of_casuality</th>\n",
       "      <th>Fitness_of_casuality</th>\n",
       "      <th>Pedestrian_movement</th>\n",
       "      <th>Cause_of_accident</th>\n",
       "      <th>Accident_severity</th>\n",
       "    </tr>\n",
       "  </thead>\n",
       "  <tbody>\n",
       "    <tr>\n",
       "      <th>0</th>\n",
       "      <td>17:02:00</td>\n",
       "      <td>Monday</td>\n",
       "      <td>18-30</td>\n",
       "      <td>Male</td>\n",
       "      <td>Above high school</td>\n",
       "      <td>Employee</td>\n",
       "      <td>1-2yr</td>\n",
       "      <td>Automobile</td>\n",
       "      <td>Owner</td>\n",
       "      <td>Above 10yr</td>\n",
       "      <td>...</td>\n",
       "      <td>Going straight</td>\n",
       "      <td>na</td>\n",
       "      <td>na</td>\n",
       "      <td>na</td>\n",
       "      <td>na</td>\n",
       "      <td>NaN</td>\n",
       "      <td>NaN</td>\n",
       "      <td>Not a Pedestrian</td>\n",
       "      <td>Moving Backward</td>\n",
       "      <td>Slight Injury</td>\n",
       "    </tr>\n",
       "    <tr>\n",
       "      <th>1</th>\n",
       "      <td>17:02:00</td>\n",
       "      <td>Monday</td>\n",
       "      <td>31-50</td>\n",
       "      <td>Male</td>\n",
       "      <td>Junior high school</td>\n",
       "      <td>Employee</td>\n",
       "      <td>Above 10yr</td>\n",
       "      <td>Public (&gt; 45 seats)</td>\n",
       "      <td>Owner</td>\n",
       "      <td>5-10yrs</td>\n",
       "      <td>...</td>\n",
       "      <td>Going straight</td>\n",
       "      <td>na</td>\n",
       "      <td>na</td>\n",
       "      <td>na</td>\n",
       "      <td>na</td>\n",
       "      <td>NaN</td>\n",
       "      <td>NaN</td>\n",
       "      <td>Not a Pedestrian</td>\n",
       "      <td>Overtaking</td>\n",
       "      <td>Slight Injury</td>\n",
       "    </tr>\n",
       "    <tr>\n",
       "      <th>2</th>\n",
       "      <td>17:02:00</td>\n",
       "      <td>Monday</td>\n",
       "      <td>18-30</td>\n",
       "      <td>Male</td>\n",
       "      <td>Junior high school</td>\n",
       "      <td>Employee</td>\n",
       "      <td>1-2yr</td>\n",
       "      <td>Lorry (41?100Q)</td>\n",
       "      <td>Owner</td>\n",
       "      <td>NaN</td>\n",
       "      <td>...</td>\n",
       "      <td>Going straight</td>\n",
       "      <td>Driver or rider</td>\n",
       "      <td>Male</td>\n",
       "      <td>31-50</td>\n",
       "      <td>3</td>\n",
       "      <td>Driver</td>\n",
       "      <td>NaN</td>\n",
       "      <td>Not a Pedestrian</td>\n",
       "      <td>Changing lane to the left</td>\n",
       "      <td>Serious Injury</td>\n",
       "    </tr>\n",
       "    <tr>\n",
       "      <th>3</th>\n",
       "      <td>1:06:00</td>\n",
       "      <td>Sunday</td>\n",
       "      <td>18-30</td>\n",
       "      <td>Male</td>\n",
       "      <td>Junior high school</td>\n",
       "      <td>Employee</td>\n",
       "      <td>5-10yr</td>\n",
       "      <td>Public (&gt; 45 seats)</td>\n",
       "      <td>Governmental</td>\n",
       "      <td>NaN</td>\n",
       "      <td>...</td>\n",
       "      <td>Going straight</td>\n",
       "      <td>Pedestrian</td>\n",
       "      <td>Female</td>\n",
       "      <td>18-30</td>\n",
       "      <td>3</td>\n",
       "      <td>Driver</td>\n",
       "      <td>Normal</td>\n",
       "      <td>Not a Pedestrian</td>\n",
       "      <td>Changing lane to the right</td>\n",
       "      <td>Slight Injury</td>\n",
       "    </tr>\n",
       "    <tr>\n",
       "      <th>4</th>\n",
       "      <td>1:06:00</td>\n",
       "      <td>Sunday</td>\n",
       "      <td>18-30</td>\n",
       "      <td>Male</td>\n",
       "      <td>Junior high school</td>\n",
       "      <td>Employee</td>\n",
       "      <td>2-5yr</td>\n",
       "      <td>NaN</td>\n",
       "      <td>Owner</td>\n",
       "      <td>5-10yrs</td>\n",
       "      <td>...</td>\n",
       "      <td>Going straight</td>\n",
       "      <td>na</td>\n",
       "      <td>na</td>\n",
       "      <td>na</td>\n",
       "      <td>na</td>\n",
       "      <td>NaN</td>\n",
       "      <td>NaN</td>\n",
       "      <td>Not a Pedestrian</td>\n",
       "      <td>Overtaking</td>\n",
       "      <td>Slight Injury</td>\n",
       "    </tr>\n",
       "  </tbody>\n",
       "</table>\n",
       "<p>5 rows × 32 columns</p>\n",
       "</div>"
      ],
      "text/plain": [
       "       Time Day_of_week Age_band_of_driver Sex_of_driver   Educational_level  \\\n",
       "0  17:02:00      Monday              18-30          Male   Above high school   \n",
       "1  17:02:00      Monday              31-50          Male  Junior high school   \n",
       "2  17:02:00      Monday              18-30          Male  Junior high school   \n",
       "3   1:06:00      Sunday              18-30          Male  Junior high school   \n",
       "4   1:06:00      Sunday              18-30          Male  Junior high school   \n",
       "\n",
       "  Vehicle_driver_relation Driving_experience      Type_of_vehicle  \\\n",
       "0                Employee              1-2yr           Automobile   \n",
       "1                Employee         Above 10yr  Public (> 45 seats)   \n",
       "2                Employee              1-2yr      Lorry (41?100Q)   \n",
       "3                Employee             5-10yr  Public (> 45 seats)   \n",
       "4                Employee              2-5yr                  NaN   \n",
       "\n",
       "  Owner_of_vehicle Service_year_of_vehicle  ... Vehicle_movement  \\\n",
       "0            Owner              Above 10yr  ...   Going straight   \n",
       "1            Owner                 5-10yrs  ...   Going straight   \n",
       "2            Owner                     NaN  ...   Going straight   \n",
       "3     Governmental                     NaN  ...   Going straight   \n",
       "4            Owner                 5-10yrs  ...   Going straight   \n",
       "\n",
       "    Casualty_class Sex_of_casualty Age_band_of_casualty Casualty_severity  \\\n",
       "0               na              na                   na                na   \n",
       "1               na              na                   na                na   \n",
       "2  Driver or rider            Male                31-50                 3   \n",
       "3       Pedestrian          Female                18-30                 3   \n",
       "4               na              na                   na                na   \n",
       "\n",
       "  Work_of_casuality Fitness_of_casuality Pedestrian_movement  \\\n",
       "0               NaN                  NaN    Not a Pedestrian   \n",
       "1               NaN                  NaN    Not a Pedestrian   \n",
       "2            Driver                  NaN    Not a Pedestrian   \n",
       "3            Driver               Normal    Not a Pedestrian   \n",
       "4               NaN                  NaN    Not a Pedestrian   \n",
       "\n",
       "            Cause_of_accident Accident_severity  \n",
       "0             Moving Backward     Slight Injury  \n",
       "1                  Overtaking     Slight Injury  \n",
       "2   Changing lane to the left    Serious Injury  \n",
       "3  Changing lane to the right     Slight Injury  \n",
       "4                  Overtaking     Slight Injury  \n",
       "\n",
       "[5 rows x 32 columns]"
      ]
     },
     "execution_count": 4,
     "metadata": {},
     "output_type": "execute_result"
    }
   ],
   "source": [
    "# Reading first few records of the dataset\n",
    "df.head()"
   ]
  },
  {
   "cell_type": "code",
   "execution_count": 5,
   "metadata": {},
   "outputs": [
    {
     "data": {
      "text/plain": [
       "['Time',\n",
       " 'Day_of_week',\n",
       " 'Age_band_of_driver',\n",
       " 'Sex_of_driver',\n",
       " 'Educational_level',\n",
       " 'Vehicle_driver_relation',\n",
       " 'Driving_experience',\n",
       " 'Type_of_vehicle',\n",
       " 'Owner_of_vehicle',\n",
       " 'Service_year_of_vehicle',\n",
       " 'Defect_of_vehicle',\n",
       " 'Area_accident_occured',\n",
       " 'Lanes_or_Medians',\n",
       " 'Road_allignment',\n",
       " 'Types_of_Junction',\n",
       " 'Road_surface_type',\n",
       " 'Road_surface_conditions',\n",
       " 'Light_conditions',\n",
       " 'Weather_conditions',\n",
       " 'Type_of_collision',\n",
       " 'Number_of_vehicles_involved',\n",
       " 'Number_of_casualties',\n",
       " 'Vehicle_movement',\n",
       " 'Casualty_class',\n",
       " 'Sex_of_casualty',\n",
       " 'Age_band_of_casualty',\n",
       " 'Casualty_severity',\n",
       " 'Work_of_casuality',\n",
       " 'Fitness_of_casuality',\n",
       " 'Pedestrian_movement',\n",
       " 'Cause_of_accident',\n",
       " 'Accident_severity']"
      ]
     },
     "execution_count": 5,
     "metadata": {},
     "output_type": "execute_result"
    }
   ],
   "source": [
    "# List of all the columns\n",
    "list(df)"
   ]
  },
  {
   "cell_type": "markdown",
   "metadata": {},
   "source": [
    "#### Description of the Attributes"
   ]
  },
  {
   "cell_type": "markdown",
   "metadata": {},
   "source": [
    "- time : time of the accident\n",
    "- day_of_week : the day in which accident took place\n",
    "- age_band_of_driver : the age bracket of the driver\n",
    "- sex_of_driver : gender of the driver involved\n",
    "- driving_experience : how experienced was the driver\n",
    "- type of vehicle : what type of vehicle was involved\n",
    "- owner of vehicle : who owned the vehicle?\n",
    "- type_of_junction : what was the tpye of junction(Y-junction/T-Junction/U Turn/O-Junction)\n",
    "- road_surface_type : what was the type of road(asphalt/gravel)"
   ]
  },
  {
   "cell_type": "markdown",
   "metadata": {},
   "source": [
    "#### Datatypes of the Columns?"
   ]
  },
  {
   "cell_type": "code",
   "execution_count": 6,
   "metadata": {},
   "outputs": [
    {
     "data": {
      "text/plain": [
       "Time                           object\n",
       "Day_of_week                    object\n",
       "Age_band_of_driver             object\n",
       "Sex_of_driver                  object\n",
       "Educational_level              object\n",
       "Vehicle_driver_relation        object\n",
       "Driving_experience             object\n",
       "Type_of_vehicle                object\n",
       "Owner_of_vehicle               object\n",
       "Service_year_of_vehicle        object\n",
       "Defect_of_vehicle              object\n",
       "Area_accident_occured          object\n",
       "Lanes_or_Medians               object\n",
       "Road_allignment                object\n",
       "Types_of_Junction              object\n",
       "Road_surface_type              object\n",
       "Road_surface_conditions        object\n",
       "Light_conditions               object\n",
       "Weather_conditions             object\n",
       "Type_of_collision              object\n",
       "Number_of_vehicles_involved     int64\n",
       "Number_of_casualties            int64\n",
       "Vehicle_movement               object\n",
       "Casualty_class                 object\n",
       "Sex_of_casualty                object\n",
       "Age_band_of_casualty           object\n",
       "Casualty_severity              object\n",
       "Work_of_casuality              object\n",
       "Fitness_of_casuality           object\n",
       "Pedestrian_movement            object\n",
       "Cause_of_accident              object\n",
       "Accident_severity              object\n",
       "dtype: object"
      ]
     },
     "execution_count": 6,
     "metadata": {},
     "output_type": "execute_result"
    }
   ],
   "source": [
    "df.dtypes"
   ]
  },
  {
   "cell_type": "markdown",
   "metadata": {},
   "source": [
    "Only Number_of_vehicles and Number_of_causalties are integer type which clearly indicates the other are categorical features"
   ]
  },
  {
   "cell_type": "markdown",
   "metadata": {},
   "source": [
    "#### Summary Statistics"
   ]
  },
  {
   "cell_type": "code",
   "execution_count": 7,
   "metadata": {},
   "outputs": [
    {
     "data": {
      "text/html": [
       "<div>\n",
       "<style scoped>\n",
       "    .dataframe tbody tr th:only-of-type {\n",
       "        vertical-align: middle;\n",
       "    }\n",
       "\n",
       "    .dataframe tbody tr th {\n",
       "        vertical-align: top;\n",
       "    }\n",
       "\n",
       "    .dataframe thead th {\n",
       "        text-align: right;\n",
       "    }\n",
       "</style>\n",
       "<table border=\"1\" class=\"dataframe\">\n",
       "  <thead>\n",
       "    <tr style=\"text-align: right;\">\n",
       "      <th></th>\n",
       "      <th>Number_of_vehicles_involved</th>\n",
       "      <th>Number_of_casualties</th>\n",
       "    </tr>\n",
       "  </thead>\n",
       "  <tbody>\n",
       "    <tr>\n",
       "      <th>count</th>\n",
       "      <td>12316.000000</td>\n",
       "      <td>12316.000000</td>\n",
       "    </tr>\n",
       "    <tr>\n",
       "      <th>mean</th>\n",
       "      <td>2.040679</td>\n",
       "      <td>1.548149</td>\n",
       "    </tr>\n",
       "    <tr>\n",
       "      <th>std</th>\n",
       "      <td>0.688790</td>\n",
       "      <td>1.007179</td>\n",
       "    </tr>\n",
       "    <tr>\n",
       "      <th>min</th>\n",
       "      <td>1.000000</td>\n",
       "      <td>1.000000</td>\n",
       "    </tr>\n",
       "    <tr>\n",
       "      <th>25%</th>\n",
       "      <td>2.000000</td>\n",
       "      <td>1.000000</td>\n",
       "    </tr>\n",
       "    <tr>\n",
       "      <th>50%</th>\n",
       "      <td>2.000000</td>\n",
       "      <td>1.000000</td>\n",
       "    </tr>\n",
       "    <tr>\n",
       "      <th>75%</th>\n",
       "      <td>2.000000</td>\n",
       "      <td>2.000000</td>\n",
       "    </tr>\n",
       "    <tr>\n",
       "      <th>max</th>\n",
       "      <td>7.000000</td>\n",
       "      <td>8.000000</td>\n",
       "    </tr>\n",
       "  </tbody>\n",
       "</table>\n",
       "</div>"
      ],
      "text/plain": [
       "       Number_of_vehicles_involved  Number_of_casualties\n",
       "count                 12316.000000          12316.000000\n",
       "mean                      2.040679              1.548149\n",
       "std                       0.688790              1.007179\n",
       "min                       1.000000              1.000000\n",
       "25%                       2.000000              1.000000\n",
       "50%                       2.000000              1.000000\n",
       "75%                       2.000000              2.000000\n",
       "max                       7.000000              8.000000"
      ]
     },
     "execution_count": 7,
     "metadata": {},
     "output_type": "execute_result"
    }
   ],
   "source": [
    "df.describe()"
   ]
  },
  {
   "cell_type": "markdown",
   "metadata": {},
   "source": [
    "We observe the there are only **Two Numerical Features:**\n",
    "- Number_of_vehicles_involved\n",
    "- Number_of_causalities\n",
    "\n",
    "All the other **30 columns are Categorical in nature**"
   ]
  },
  {
   "cell_type": "markdown",
   "metadata": {},
   "source": [
    "On an average the number of vehicles involved is 2 and the number of causalities is 1\n",
    "\n",
    "The maximum number of causalities is 7 and the maximum number of vehicles involved is 8"
   ]
  },
  {
   "cell_type": "markdown",
   "metadata": {},
   "source": [
    "#### Analyzing the missing data"
   ]
  },
  {
   "cell_type": "code",
   "execution_count": 8,
   "metadata": {},
   "outputs": [
    {
     "data": {
      "text/plain": [
       "Time                              0\n",
       "Day_of_week                       0\n",
       "Age_band_of_driver                0\n",
       "Sex_of_driver                     0\n",
       "Educational_level               741\n",
       "Vehicle_driver_relation         579\n",
       "Driving_experience              829\n",
       "Type_of_vehicle                 950\n",
       "Owner_of_vehicle                482\n",
       "Service_year_of_vehicle        3928\n",
       "Defect_of_vehicle              4427\n",
       "Area_accident_occured           239\n",
       "Lanes_or_Medians                385\n",
       "Road_allignment                 142\n",
       "Types_of_Junction               887\n",
       "Road_surface_type               172\n",
       "Road_surface_conditions           0\n",
       "Light_conditions                  0\n",
       "Weather_conditions                0\n",
       "Type_of_collision               155\n",
       "Number_of_vehicles_involved       0\n",
       "Number_of_casualties              0\n",
       "Vehicle_movement                308\n",
       "Casualty_class                    0\n",
       "Sex_of_casualty                   0\n",
       "Age_band_of_casualty              0\n",
       "Casualty_severity                 0\n",
       "Work_of_casuality              3198\n",
       "Fitness_of_casuality           2635\n",
       "Pedestrian_movement               0\n",
       "Cause_of_accident                 0\n",
       "Accident_severity                 0\n",
       "dtype: int64"
      ]
     },
     "execution_count": 8,
     "metadata": {},
     "output_type": "execute_result"
    }
   ],
   "source": [
    "df.isnull().sum()"
   ]
  },
  {
   "cell_type": "markdown",
   "metadata": {},
   "source": [
    "We can notice that **Defect_of_vehicle** and the **Service_year_of_vehicle** have the highest missing values"
   ]
  },
  {
   "cell_type": "markdown",
   "metadata": {},
   "source": [
    "#### Percentage of Missing Data"
   ]
  },
  {
   "cell_type": "code",
   "execution_count": 9,
   "metadata": {},
   "outputs": [],
   "source": [
    "percent_missing = df.isnull().sum() * 100 / len(df)\n",
    "missing_value_df = pd.DataFrame({'column_name': df.columns,\n",
    "                                 'percent_missing': percent_missing})\n",
    "missing_value_df = missing_value_df.reset_index()"
   ]
  },
  {
   "cell_type": "code",
   "execution_count": 10,
   "metadata": {},
   "outputs": [],
   "source": [
    "missing_value_df = missing_value_df.drop(['column_name'],axis = 1)"
   ]
  },
  {
   "cell_type": "code",
   "execution_count": 11,
   "metadata": {},
   "outputs": [],
   "source": [
    "missing_value_df.columns = ['column_name','percent_missing']"
   ]
  },
  {
   "cell_type": "code",
   "execution_count": 12,
   "metadata": {},
   "outputs": [],
   "source": [
    "missing_value_df.sort_values(by = 'percent_missing',ascending = False,inplace= True)\n",
    "missing_value_df.reset_index(inplace = True)"
   ]
  },
  {
   "cell_type": "markdown",
   "metadata": {},
   "source": [
    "### Top 5 columns with most missing values"
   ]
  },
  {
   "cell_type": "code",
   "execution_count": 13,
   "metadata": {},
   "outputs": [
    {
     "data": {
      "text/html": [
       "<div>\n",
       "<style scoped>\n",
       "    .dataframe tbody tr th:only-of-type {\n",
       "        vertical-align: middle;\n",
       "    }\n",
       "\n",
       "    .dataframe tbody tr th {\n",
       "        vertical-align: top;\n",
       "    }\n",
       "\n",
       "    .dataframe thead th {\n",
       "        text-align: right;\n",
       "    }\n",
       "</style>\n",
       "<table border=\"1\" class=\"dataframe\">\n",
       "  <thead>\n",
       "    <tr style=\"text-align: right;\">\n",
       "      <th></th>\n",
       "      <th>index</th>\n",
       "      <th>column_name</th>\n",
       "      <th>percent_missing</th>\n",
       "    </tr>\n",
       "  </thead>\n",
       "  <tbody>\n",
       "    <tr>\n",
       "      <th>0</th>\n",
       "      <td>10</td>\n",
       "      <td>Defect_of_vehicle</td>\n",
       "      <td>35.945112</td>\n",
       "    </tr>\n",
       "    <tr>\n",
       "      <th>1</th>\n",
       "      <td>9</td>\n",
       "      <td>Service_year_of_vehicle</td>\n",
       "      <td>31.893472</td>\n",
       "    </tr>\n",
       "    <tr>\n",
       "      <th>2</th>\n",
       "      <td>27</td>\n",
       "      <td>Work_of_casuality</td>\n",
       "      <td>25.966223</td>\n",
       "    </tr>\n",
       "    <tr>\n",
       "      <th>3</th>\n",
       "      <td>28</td>\n",
       "      <td>Fitness_of_casuality</td>\n",
       "      <td>21.394933</td>\n",
       "    </tr>\n",
       "    <tr>\n",
       "      <th>4</th>\n",
       "      <td>7</td>\n",
       "      <td>Type_of_vehicle</td>\n",
       "      <td>7.713543</td>\n",
       "    </tr>\n",
       "  </tbody>\n",
       "</table>\n",
       "</div>"
      ],
      "text/plain": [
       "   index              column_name  percent_missing\n",
       "0     10        Defect_of_vehicle        35.945112\n",
       "1      9  Service_year_of_vehicle        31.893472\n",
       "2     27        Work_of_casuality        25.966223\n",
       "3     28     Fitness_of_casuality        21.394933\n",
       "4      7          Type_of_vehicle         7.713543"
      ]
     },
     "execution_count": 13,
     "metadata": {},
     "output_type": "execute_result"
    }
   ],
   "source": [
    "missing_value_df.head()"
   ]
  },
  {
   "cell_type": "markdown",
   "metadata": {},
   "source": [
    "### Handling Missing Data for Numerical Features"
   ]
  },
  {
   "cell_type": "markdown",
   "metadata": {},
   "source": [
    "**Box Plot Analysis**"
   ]
  },
  {
   "cell_type": "code",
   "execution_count": 137,
   "metadata": {},
   "outputs": [
    {
     "data": {
      "text/plain": [
       "<AxesSubplot:xlabel='Number_of_vehicles_involved'>"
      ]
     },
     "execution_count": 137,
     "metadata": {},
     "output_type": "execute_result"
    },
    {
     "data": {
      "image/png": "[encoded data removed]",
      "text/plain": [
       "<Figure size 432x288 with 1 Axes>"
      ]
     },
     "metadata": {
      "needs_background": "light"
     },
     "output_type": "display_data"
    }
   ],
   "source": [
    "sns.boxplot(x = df['Number_of_vehicles_involved'])"
   ]
  },
  {
   "cell_type": "code",
   "execution_count": 138,
   "metadata": {},
   "outputs": [
    {
     "data": {
      "text/plain": [
       "<AxesSubplot:ylabel='Density'>"
      ]
     },
     "execution_count": 138,
     "metadata": {},
     "output_type": "execute_result"
    },
    {
     "data": {
      "image/png": "[encoded data removed]",
      "text/plain": [
       "<Figure size 432x288 with 1 Axes>"
      ]
     },
     "metadata": {
      "needs_background": "light"
     },
     "output_type": "display_data"
    }
   ],
   "source": [
    "sns.distplot(x = df['Number_of_vehicles_involved'])"
   ]
  },
  {
   "cell_type": "code",
   "execution_count": 142,
   "metadata": {},
   "outputs": [
    {
     "data": {
      "text/plain": [
       "Number_of_vehicles_involved    1.323454\n",
       "Number_of_casualties           2.344769\n",
       "dtype: float64"
      ]
     },
     "execution_count": 142,
     "metadata": {},
     "output_type": "execute_result"
    }
   ],
   "source": [
    "df.skew(axis=0)"
   ]
  },
  {
   "cell_type": "markdown",
   "metadata": {},
   "source": [
    "The data is heavily skewed for number of vehicles involed. So we can impute by median"
   ]
  },
  {
   "cell_type": "code",
   "execution_count": 143,
   "metadata": {},
   "outputs": [
    {
     "data": {
      "text/plain": [
       "array([2, 1, 3, 6, 4, 7], dtype=int64)"
      ]
     },
     "execution_count": 143,
     "metadata": {},
     "output_type": "execute_result"
    }
   ],
   "source": [
    "df['Number_of_vehicles_involved'].unique()"
   ]
  },
  {
   "cell_type": "markdown",
   "metadata": {},
   "source": [
    "None of the numerical features have missing values so we dont have to impute"
   ]
  },
  {
   "cell_type": "markdown",
   "metadata": {},
   "source": [
    "### Number of Unique Classes for Categorical Features"
   ]
  },
  {
   "cell_type": "code",
   "execution_count": 70,
   "metadata": {},
   "outputs": [
    {
     "data": {
      "text/html": [
       "<div>\n",
       "<style scoped>\n",
       "    .dataframe tbody tr th:only-of-type {\n",
       "        vertical-align: middle;\n",
       "    }\n",
       "\n",
       "    .dataframe tbody tr th {\n",
       "        vertical-align: top;\n",
       "    }\n",
       "\n",
       "    .dataframe thead th {\n",
       "        text-align: right;\n",
       "    }\n",
       "</style>\n",
       "<table border=\"1\" class=\"dataframe\">\n",
       "  <thead>\n",
       "    <tr style=\"text-align: right;\">\n",
       "      <th></th>\n",
       "      <th>Day_of_week</th>\n",
       "      <th>Age_band_of_driver</th>\n",
       "      <th>Sex_of_driver</th>\n",
       "      <th>Educational_level</th>\n",
       "      <th>Vehicle_driver_relation</th>\n",
       "      <th>Driving_experience</th>\n",
       "      <th>Type_of_vehicle</th>\n",
       "      <th>Owner_of_vehicle</th>\n",
       "      <th>Service_year_of_vehicle</th>\n",
       "      <th>Defect_of_vehicle</th>\n",
       "      <th>...</th>\n",
       "      <th>Vehicle_movement</th>\n",
       "      <th>Casualty_class</th>\n",
       "      <th>Sex_of_casualty</th>\n",
       "      <th>Age_band_of_casualty</th>\n",
       "      <th>Casualty_severity</th>\n",
       "      <th>Work_of_casuality</th>\n",
       "      <th>Fitness_of_casuality</th>\n",
       "      <th>Pedestrian_movement</th>\n",
       "      <th>Cause_of_accident</th>\n",
       "      <th>Accident_severity</th>\n",
       "    </tr>\n",
       "  </thead>\n",
       "  <tbody>\n",
       "    <tr>\n",
       "      <th>count</th>\n",
       "      <td>12316</td>\n",
       "      <td>12316</td>\n",
       "      <td>12316</td>\n",
       "      <td>11575</td>\n",
       "      <td>11737</td>\n",
       "      <td>11487</td>\n",
       "      <td>11366</td>\n",
       "      <td>11834</td>\n",
       "      <td>8388</td>\n",
       "      <td>7889</td>\n",
       "      <td>...</td>\n",
       "      <td>12008</td>\n",
       "      <td>12316</td>\n",
       "      <td>12316</td>\n",
       "      <td>12316</td>\n",
       "      <td>12316</td>\n",
       "      <td>9118</td>\n",
       "      <td>9681</td>\n",
       "      <td>12316</td>\n",
       "      <td>12316</td>\n",
       "      <td>12316</td>\n",
       "    </tr>\n",
       "    <tr>\n",
       "      <th>unique</th>\n",
       "      <td>7</td>\n",
       "      <td>5</td>\n",
       "      <td>3</td>\n",
       "      <td>7</td>\n",
       "      <td>4</td>\n",
       "      <td>7</td>\n",
       "      <td>17</td>\n",
       "      <td>4</td>\n",
       "      <td>6</td>\n",
       "      <td>3</td>\n",
       "      <td>...</td>\n",
       "      <td>13</td>\n",
       "      <td>4</td>\n",
       "      <td>3</td>\n",
       "      <td>6</td>\n",
       "      <td>4</td>\n",
       "      <td>7</td>\n",
       "      <td>5</td>\n",
       "      <td>9</td>\n",
       "      <td>20</td>\n",
       "      <td>3</td>\n",
       "    </tr>\n",
       "    <tr>\n",
       "      <th>top</th>\n",
       "      <td>Friday</td>\n",
       "      <td>18-30</td>\n",
       "      <td>Male</td>\n",
       "      <td>Junior high school</td>\n",
       "      <td>Employee</td>\n",
       "      <td>5-10yr</td>\n",
       "      <td>Automobile</td>\n",
       "      <td>Owner</td>\n",
       "      <td>Unknown</td>\n",
       "      <td>No defect</td>\n",
       "      <td>...</td>\n",
       "      <td>Going straight</td>\n",
       "      <td>Driver or rider</td>\n",
       "      <td>Male</td>\n",
       "      <td>na</td>\n",
       "      <td>3</td>\n",
       "      <td>Driver</td>\n",
       "      <td>Normal</td>\n",
       "      <td>Not a Pedestrian</td>\n",
       "      <td>No distancing</td>\n",
       "      <td>Slight Injury</td>\n",
       "    </tr>\n",
       "    <tr>\n",
       "      <th>freq</th>\n",
       "      <td>2041</td>\n",
       "      <td>4271</td>\n",
       "      <td>11437</td>\n",
       "      <td>7619</td>\n",
       "      <td>9627</td>\n",
       "      <td>3363</td>\n",
       "      <td>3205</td>\n",
       "      <td>10459</td>\n",
       "      <td>2883</td>\n",
       "      <td>7777</td>\n",
       "      <td>...</td>\n",
       "      <td>8158</td>\n",
       "      <td>4944</td>\n",
       "      <td>5253</td>\n",
       "      <td>4443</td>\n",
       "      <td>7076</td>\n",
       "      <td>5903</td>\n",
       "      <td>9608</td>\n",
       "      <td>11390</td>\n",
       "      <td>2263</td>\n",
       "      <td>10415</td>\n",
       "    </tr>\n",
       "  </tbody>\n",
       "</table>\n",
       "<p>4 rows × 29 columns</p>\n",
       "</div>"
      ],
      "text/plain": [
       "       Day_of_week Age_band_of_driver Sex_of_driver   Educational_level  \\\n",
       "count        12316              12316         12316               11575   \n",
       "unique           7                  5             3                   7   \n",
       "top         Friday              18-30          Male  Junior high school   \n",
       "freq          2041               4271         11437                7619   \n",
       "\n",
       "       Vehicle_driver_relation Driving_experience Type_of_vehicle  \\\n",
       "count                    11737              11487           11366   \n",
       "unique                       4                  7              17   \n",
       "top                   Employee             5-10yr      Automobile   \n",
       "freq                      9627               3363            3205   \n",
       "\n",
       "       Owner_of_vehicle Service_year_of_vehicle Defect_of_vehicle  ...  \\\n",
       "count             11834                    8388              7889  ...   \n",
       "unique                4                       6                 3  ...   \n",
       "top               Owner                 Unknown         No defect  ...   \n",
       "freq              10459                    2883              7777  ...   \n",
       "\n",
       "       Vehicle_movement   Casualty_class Sex_of_casualty Age_band_of_casualty  \\\n",
       "count             12008            12316           12316                12316   \n",
       "unique               13                4               3                    6   \n",
       "top      Going straight  Driver or rider            Male                   na   \n",
       "freq               8158             4944            5253                 4443   \n",
       "\n",
       "       Casualty_severity Work_of_casuality Fitness_of_casuality  \\\n",
       "count              12316              9118                 9681   \n",
       "unique                 4                 7                    5   \n",
       "top                    3            Driver               Normal   \n",
       "freq                7076              5903                 9608   \n",
       "\n",
       "       Pedestrian_movement Cause_of_accident Accident_severity  \n",
       "count                12316             12316             12316  \n",
       "unique                   9                20                 3  \n",
       "top       Not a Pedestrian     No distancing     Slight Injury  \n",
       "freq                 11390              2263             10415  \n",
       "\n",
       "[4 rows x 29 columns]"
      ]
     },
     "execution_count": 70,
     "metadata": {},
     "output_type": "execute_result"
    }
   ],
   "source": [
    "df.describe(include='object')"
   ]
  },
  {
   "cell_type": "markdown",
   "metadata": {},
   "source": [
    "#### What are the unique classes for the Classification Features of the Dataset?"
   ]
  },
  {
   "cell_type": "code",
   "execution_count": 14,
   "metadata": {},
   "outputs": [
    {
     "data": {
      "text/plain": [
       "array(['Monday', 'Sunday', 'Friday', 'Wednesday', 'Saturday', 'Thursday',\n",
       "       'Tuesday'], dtype=object)"
      ]
     },
     "execution_count": 14,
     "metadata": {},
     "output_type": "execute_result"
    }
   ],
   "source": [
    "df['Day_of_week'].unique()"
   ]
  },
  {
   "cell_type": "code",
   "execution_count": 15,
   "metadata": {},
   "outputs": [
    {
     "data": {
      "text/plain": [
       "array(['Above high school', 'Junior high school', nan,\n",
       "       'Elementary school', 'High school', 'Unknown', 'Illiterate',\n",
       "       'Writing & reading'], dtype=object)"
      ]
     },
     "execution_count": 15,
     "metadata": {},
     "output_type": "execute_result"
    }
   ],
   "source": [
    "df['Educational_level'].unique()"
   ]
  },
  {
   "cell_type": "code",
   "execution_count": 16,
   "metadata": {},
   "outputs": [
    {
     "data": {
      "text/plain": [
       "array(['1-2yr', 'Above 10yr', '5-10yr', '2-5yr', nan, 'No Licence',\n",
       "       'Below 1yr', 'unknown'], dtype=object)"
      ]
     },
     "execution_count": 16,
     "metadata": {},
     "output_type": "execute_result"
    }
   ],
   "source": [
    "df['Driving_experience'].unique()"
   ]
  },
  {
   "cell_type": "markdown",
   "metadata": {},
   "source": [
    "**Replace unknown with NaN in this feature**"
   ]
  },
  {
   "cell_type": "code",
   "execution_count": 149,
   "metadata": {},
   "outputs": [],
   "source": [
    "df['Driving_experience'].mask(df['Driving_experience'] == 'nan', 'NaN', inplace=True)"
   ]
  },
  {
   "cell_type": "code",
   "execution_count": 150,
   "metadata": {},
   "outputs": [],
   "source": [
    "df['Driving_experience'].mask(df['Driving_experience'] == 'unknown', 'NaN', inplace=True)"
   ]
  },
  {
   "cell_type": "code",
   "execution_count": 17,
   "metadata": {},
   "outputs": [
    {
     "data": {
      "text/plain": [
       "array(['Residential areas', 'Office areas', '  Recreational areas',\n",
       "       ' Industrial areas', nan, 'Other', ' Church areas',\n",
       "       '  Market areas', 'Unknown', 'Rural village areas',\n",
       "       ' Outside rural areas', ' Hospital areas', 'School areas',\n",
       "       'Rural village areasOffice areas', 'Recreational areas'],\n",
       "      dtype=object)"
      ]
     },
     "execution_count": 17,
     "metadata": {},
     "output_type": "execute_result"
    }
   ],
   "source": [
    "df[\"Area_accident_occured\"].unique()"
   ]
  },
  {
   "cell_type": "code",
   "execution_count": 18,
   "metadata": {},
   "outputs": [
    {
     "data": {
      "text/plain": [
       "array(['No junction', 'Y Shape', 'Crossing', 'O Shape', 'Other',\n",
       "       'Unknown', 'T Shape', 'X Shape', nan], dtype=object)"
      ]
     },
     "execution_count": 18,
     "metadata": {},
     "output_type": "execute_result"
    }
   ],
   "source": [
    "df[\"Types_of_Junction\"].unique()"
   ]
  },
  {
   "cell_type": "code",
   "execution_count": 152,
   "metadata": {},
   "outputs": [],
   "source": [
    "df['Types_of_Junction'].mask(df['Types_of_Junction'] == 'nan', 'NaN', inplace=True)"
   ]
  },
  {
   "cell_type": "code",
   "execution_count": 19,
   "metadata": {},
   "outputs": [
    {
     "data": {
      "text/plain": [
       "array(['Normal', 'Raining', 'Raining and Windy', 'Cloudy', 'Other',\n",
       "       'Windy', 'Snow', 'Unknown', 'Fog or mist'], dtype=object)"
      ]
     },
     "execution_count": 19,
     "metadata": {},
     "output_type": "execute_result"
    }
   ],
   "source": [
    "df[\"Weather_conditions\"].unique()"
   ]
  },
  {
   "cell_type": "code",
   "execution_count": 20,
   "metadata": {},
   "outputs": [
    {
     "data": {
      "text/plain": [
       "array(['Slight Injury', 'Serious Injury', 'Fatal injury'], dtype=object)"
      ]
     },
     "execution_count": 20,
     "metadata": {},
     "output_type": "execute_result"
    }
   ],
   "source": [
    "df[\"Accident_severity\"].unique()"
   ]
  },
  {
   "cell_type": "markdown",
   "metadata": {},
   "source": [
    "Since accident severity is our target variable and there are three classes, we are dealing with a multi class problem here."
   ]
  },
  {
   "cell_type": "markdown",
   "metadata": {},
   "source": [
    "The prominent classes are : \n",
    "- Slight Injury\n",
    "- Serious Injury\n",
    "- Fatal Injury"
   ]
  },
  {
   "cell_type": "markdown",
   "metadata": {},
   "source": [
    "### Handling Missing Values for Categorical Variables"
   ]
  },
  {
   "cell_type": "code",
   "execution_count": 153,
   "metadata": {},
   "outputs": [
    {
     "data": {
      "text/plain": [
       "0    Y Shape\n",
       "dtype: object"
      ]
     },
     "execution_count": 153,
     "metadata": {},
     "output_type": "execute_result"
    }
   ],
   "source": [
    "df['Types_of_Junction'].mode()"
   ]
  },
  {
   "cell_type": "markdown",
   "metadata": {},
   "source": [
    "Mode of Types of Junction is Y - Shape"
   ]
  },
  {
   "cell_type": "markdown",
   "metadata": {},
   "source": [
    "Similarly we can find the mode for the other features"
   ]
  },
  {
   "cell_type": "code",
   "execution_count": 158,
   "metadata": {},
   "outputs": [],
   "source": [
    "df =  df.fillna(df.mode().iloc[0])"
   ]
  },
  {
   "cell_type": "markdown",
   "metadata": {},
   "source": [
    "There are no null values now"
   ]
  },
  {
   "cell_type": "code",
   "execution_count": 159,
   "metadata": {},
   "outputs": [
    {
     "data": {
      "text/plain": [
       "Day_of_week                    0\n",
       "Age_band_of_driver             0\n",
       "Sex_of_driver                  0\n",
       "Educational_level              0\n",
       "Vehicle_driver_relation        0\n",
       "Driving_experience             0\n",
       "Type_of_vehicle                0\n",
       "Owner_of_vehicle               0\n",
       "Service_year_of_vehicle        0\n",
       "Defect_of_vehicle              0\n",
       "Area_accident_occured          0\n",
       "Lanes_or_Medians               0\n",
       "Road_allignment                0\n",
       "Types_of_Junction              0\n",
       "Road_surface_type              0\n",
       "Road_surface_conditions        0\n",
       "Light_conditions               0\n",
       "Weather_conditions             0\n",
       "Type_of_collision              0\n",
       "Number_of_vehicles_involved    0\n",
       "Number_of_casualties           0\n",
       "Vehicle_movement               0\n",
       "Casualty_class                 0\n",
       "Sex_of_casualty                0\n",
       "Age_band_of_casualty           0\n",
       "Casualty_severity              0\n",
       "Work_of_casuality              0\n",
       "Fitness_of_casuality           0\n",
       "Pedestrian_movement            0\n",
       "Cause_of_accident              0\n",
       "Accident_severity              0\n",
       "dtype: int64"
      ]
     },
     "execution_count": 159,
     "metadata": {},
     "output_type": "execute_result"
    }
   ],
   "source": [
    "df.isnull().sum()"
   ]
  },
  {
   "cell_type": "markdown",
   "metadata": {},
   "source": [
    "#### Is there class imbalance in the data?"
   ]
  },
  {
   "cell_type": "code",
   "execution_count": 21,
   "metadata": {},
   "outputs": [
    {
     "data": {
      "text/plain": [
       "Slight Injury     10415\n",
       "Serious Injury     1743\n",
       "Fatal injury        158\n",
       "Name: Accident_severity, dtype: int64"
      ]
     },
     "execution_count": 21,
     "metadata": {},
     "output_type": "execute_result"
    }
   ],
   "source": [
    "df[\"Accident_severity\"].value_counts()"
   ]
  },
  {
   "cell_type": "markdown",
   "metadata": {},
   "source": [
    "Yes there is class imbalance because Slight Injury Class has 10,000 odd values whereas the other two classes have only 1743 and 158 values. "
   ]
  },
  {
   "cell_type": "markdown",
   "metadata": {},
   "source": [
    "Let's deal with class imbalance a little later but keep this point in mind"
   ]
  },
  {
   "cell_type": "markdown",
   "metadata": {},
   "source": [
    "### Analysis of Time Column "
   ]
  },
  {
   "cell_type": "markdown",
   "metadata": {},
   "source": [
    "**Convert time column to datetime**"
   ]
  },
  {
   "cell_type": "code",
   "execution_count": 22,
   "metadata": {},
   "outputs": [
    {
     "data": {
      "text/plain": [
       "0       2022-07-11 17:02:00\n",
       "1       2022-07-11 17:02:00\n",
       "2       2022-07-11 17:02:00\n",
       "3       2022-07-11 01:06:00\n",
       "4       2022-07-11 01:06:00\n",
       "                ...        \n",
       "12311   2022-07-11 16:15:00\n",
       "12312   2022-07-11 18:00:00\n",
       "12313   2022-07-11 13:55:00\n",
       "12314   2022-07-11 13:55:00\n",
       "12315   2022-07-11 13:55:00\n",
       "Name: Time, Length: 12316, dtype: datetime64[ns]"
      ]
     },
     "execution_count": 22,
     "metadata": {},
     "output_type": "execute_result"
    }
   ],
   "source": [
    "pd.to_datetime(df['Time'])"
   ]
  },
  {
   "cell_type": "code",
   "execution_count": 23,
   "metadata": {},
   "outputs": [],
   "source": [
    "df1 = df"
   ]
  },
  {
   "cell_type": "markdown",
   "metadata": {},
   "source": [
    "### Categorizing Time Values"
   ]
  },
  {
   "cell_type": "markdown",
   "metadata": {},
   "source": [
    "In this section,let's bin time values into `Morning`,`Afternoon`,`Evening` and `Night` classes"
   ]
  },
  {
   "cell_type": "code",
   "execution_count": 33,
   "metadata": {},
   "outputs": [],
   "source": [
    "df1 = df1.reset_index()"
   ]
  },
  {
   "cell_type": "code",
   "execution_count": 34,
   "metadata": {},
   "outputs": [
    {
     "data": {
      "text/html": [
       "<div>\n",
       "<style scoped>\n",
       "    .dataframe tbody tr th:only-of-type {\n",
       "        vertical-align: middle;\n",
       "    }\n",
       "\n",
       "    .dataframe tbody tr th {\n",
       "        vertical-align: top;\n",
       "    }\n",
       "\n",
       "    .dataframe thead th {\n",
       "        text-align: right;\n",
       "    }\n",
       "</style>\n",
       "<table border=\"1\" class=\"dataframe\">\n",
       "  <thead>\n",
       "    <tr style=\"text-align: right;\">\n",
       "      <th></th>\n",
       "      <th>Time</th>\n",
       "      <th>Day_of_week</th>\n",
       "      <th>Age_band_of_driver</th>\n",
       "      <th>Sex_of_driver</th>\n",
       "      <th>Educational_level</th>\n",
       "      <th>Vehicle_driver_relation</th>\n",
       "      <th>Driving_experience</th>\n",
       "      <th>Type_of_vehicle</th>\n",
       "      <th>Owner_of_vehicle</th>\n",
       "      <th>Service_year_of_vehicle</th>\n",
       "      <th>...</th>\n",
       "      <th>Vehicle_movement</th>\n",
       "      <th>Casualty_class</th>\n",
       "      <th>Sex_of_casualty</th>\n",
       "      <th>Age_band_of_casualty</th>\n",
       "      <th>Casualty_severity</th>\n",
       "      <th>Work_of_casuality</th>\n",
       "      <th>Fitness_of_casuality</th>\n",
       "      <th>Pedestrian_movement</th>\n",
       "      <th>Cause_of_accident</th>\n",
       "      <th>Accident_severity</th>\n",
       "    </tr>\n",
       "  </thead>\n",
       "  <tbody>\n",
       "    <tr>\n",
       "      <th>0</th>\n",
       "      <td>2022-07-11 17:02:00</td>\n",
       "      <td>Monday</td>\n",
       "      <td>18-30</td>\n",
       "      <td>Male</td>\n",
       "      <td>Above high school</td>\n",
       "      <td>Employee</td>\n",
       "      <td>1-2yr</td>\n",
       "      <td>Automobile</td>\n",
       "      <td>Owner</td>\n",
       "      <td>Above 10yr</td>\n",
       "      <td>...</td>\n",
       "      <td>Going straight</td>\n",
       "      <td>na</td>\n",
       "      <td>na</td>\n",
       "      <td>na</td>\n",
       "      <td>na</td>\n",
       "      <td>NaN</td>\n",
       "      <td>NaN</td>\n",
       "      <td>Not a Pedestrian</td>\n",
       "      <td>Moving Backward</td>\n",
       "      <td>Slight Injury</td>\n",
       "    </tr>\n",
       "    <tr>\n",
       "      <th>1</th>\n",
       "      <td>2022-07-11 17:02:00</td>\n",
       "      <td>Monday</td>\n",
       "      <td>31-50</td>\n",
       "      <td>Male</td>\n",
       "      <td>Junior high school</td>\n",
       "      <td>Employee</td>\n",
       "      <td>Above 10yr</td>\n",
       "      <td>Public (&gt; 45 seats)</td>\n",
       "      <td>Owner</td>\n",
       "      <td>5-10yrs</td>\n",
       "      <td>...</td>\n",
       "      <td>Going straight</td>\n",
       "      <td>na</td>\n",
       "      <td>na</td>\n",
       "      <td>na</td>\n",
       "      <td>na</td>\n",
       "      <td>NaN</td>\n",
       "      <td>NaN</td>\n",
       "      <td>Not a Pedestrian</td>\n",
       "      <td>Overtaking</td>\n",
       "      <td>Slight Injury</td>\n",
       "    </tr>\n",
       "    <tr>\n",
       "      <th>2</th>\n",
       "      <td>2022-07-11 17:02:00</td>\n",
       "      <td>Monday</td>\n",
       "      <td>18-30</td>\n",
       "      <td>Male</td>\n",
       "      <td>Junior high school</td>\n",
       "      <td>Employee</td>\n",
       "      <td>1-2yr</td>\n",
       "      <td>Lorry (41?100Q)</td>\n",
       "      <td>Owner</td>\n",
       "      <td>NaN</td>\n",
       "      <td>...</td>\n",
       "      <td>Going straight</td>\n",
       "      <td>Driver or rider</td>\n",
       "      <td>Male</td>\n",
       "      <td>31-50</td>\n",
       "      <td>3</td>\n",
       "      <td>Driver</td>\n",
       "      <td>NaN</td>\n",
       "      <td>Not a Pedestrian</td>\n",
       "      <td>Changing lane to the left</td>\n",
       "      <td>Serious Injury</td>\n",
       "    </tr>\n",
       "    <tr>\n",
       "      <th>3</th>\n",
       "      <td>2022-07-11 01:06:00</td>\n",
       "      <td>Sunday</td>\n",
       "      <td>18-30</td>\n",
       "      <td>Male</td>\n",
       "      <td>Junior high school</td>\n",
       "      <td>Employee</td>\n",
       "      <td>5-10yr</td>\n",
       "      <td>Public (&gt; 45 seats)</td>\n",
       "      <td>Governmental</td>\n",
       "      <td>NaN</td>\n",
       "      <td>...</td>\n",
       "      <td>Going straight</td>\n",
       "      <td>Pedestrian</td>\n",
       "      <td>Female</td>\n",
       "      <td>18-30</td>\n",
       "      <td>3</td>\n",
       "      <td>Driver</td>\n",
       "      <td>Normal</td>\n",
       "      <td>Not a Pedestrian</td>\n",
       "      <td>Changing lane to the right</td>\n",
       "      <td>Slight Injury</td>\n",
       "    </tr>\n",
       "    <tr>\n",
       "      <th>4</th>\n",
       "      <td>2022-07-11 01:06:00</td>\n",
       "      <td>Sunday</td>\n",
       "      <td>18-30</td>\n",
       "      <td>Male</td>\n",
       "      <td>Junior high school</td>\n",
       "      <td>Employee</td>\n",
       "      <td>2-5yr</td>\n",
       "      <td>NaN</td>\n",
       "      <td>Owner</td>\n",
       "      <td>5-10yrs</td>\n",
       "      <td>...</td>\n",
       "      <td>Going straight</td>\n",
       "      <td>na</td>\n",
       "      <td>na</td>\n",
       "      <td>na</td>\n",
       "      <td>na</td>\n",
       "      <td>NaN</td>\n",
       "      <td>NaN</td>\n",
       "      <td>Not a Pedestrian</td>\n",
       "      <td>Overtaking</td>\n",
       "      <td>Slight Injury</td>\n",
       "    </tr>\n",
       "    <tr>\n",
       "      <th>...</th>\n",
       "      <td>...</td>\n",
       "      <td>...</td>\n",
       "      <td>...</td>\n",
       "      <td>...</td>\n",
       "      <td>...</td>\n",
       "      <td>...</td>\n",
       "      <td>...</td>\n",
       "      <td>...</td>\n",
       "      <td>...</td>\n",
       "      <td>...</td>\n",
       "      <td>...</td>\n",
       "      <td>...</td>\n",
       "      <td>...</td>\n",
       "      <td>...</td>\n",
       "      <td>...</td>\n",
       "      <td>...</td>\n",
       "      <td>...</td>\n",
       "      <td>...</td>\n",
       "      <td>...</td>\n",
       "      <td>...</td>\n",
       "      <td>...</td>\n",
       "    </tr>\n",
       "    <tr>\n",
       "      <th>12311</th>\n",
       "      <td>2022-07-11 16:15:00</td>\n",
       "      <td>Wednesday</td>\n",
       "      <td>31-50</td>\n",
       "      <td>Male</td>\n",
       "      <td>NaN</td>\n",
       "      <td>Employee</td>\n",
       "      <td>2-5yr</td>\n",
       "      <td>Lorry (11?40Q)</td>\n",
       "      <td>Owner</td>\n",
       "      <td>NaN</td>\n",
       "      <td>...</td>\n",
       "      <td>Going straight</td>\n",
       "      <td>na</td>\n",
       "      <td>na</td>\n",
       "      <td>na</td>\n",
       "      <td>na</td>\n",
       "      <td>Driver</td>\n",
       "      <td>Normal</td>\n",
       "      <td>Not a Pedestrian</td>\n",
       "      <td>No distancing</td>\n",
       "      <td>Slight Injury</td>\n",
       "    </tr>\n",
       "    <tr>\n",
       "      <th>12312</th>\n",
       "      <td>2022-07-11 18:00:00</td>\n",
       "      <td>Sunday</td>\n",
       "      <td>Unknown</td>\n",
       "      <td>Male</td>\n",
       "      <td>Elementary school</td>\n",
       "      <td>Employee</td>\n",
       "      <td>5-10yr</td>\n",
       "      <td>Automobile</td>\n",
       "      <td>Owner</td>\n",
       "      <td>NaN</td>\n",
       "      <td>...</td>\n",
       "      <td>Other</td>\n",
       "      <td>na</td>\n",
       "      <td>na</td>\n",
       "      <td>na</td>\n",
       "      <td>na</td>\n",
       "      <td>Driver</td>\n",
       "      <td>Normal</td>\n",
       "      <td>Not a Pedestrian</td>\n",
       "      <td>No distancing</td>\n",
       "      <td>Slight Injury</td>\n",
       "    </tr>\n",
       "    <tr>\n",
       "      <th>12313</th>\n",
       "      <td>2022-07-11 13:55:00</td>\n",
       "      <td>Sunday</td>\n",
       "      <td>Over 51</td>\n",
       "      <td>Male</td>\n",
       "      <td>Junior high school</td>\n",
       "      <td>Employee</td>\n",
       "      <td>5-10yr</td>\n",
       "      <td>Bajaj</td>\n",
       "      <td>Owner</td>\n",
       "      <td>2-5yrs</td>\n",
       "      <td>...</td>\n",
       "      <td>Other</td>\n",
       "      <td>Driver or rider</td>\n",
       "      <td>Male</td>\n",
       "      <td>31-50</td>\n",
       "      <td>3</td>\n",
       "      <td>Driver</td>\n",
       "      <td>Normal</td>\n",
       "      <td>Not a Pedestrian</td>\n",
       "      <td>Changing lane to the right</td>\n",
       "      <td>Serious Injury</td>\n",
       "    </tr>\n",
       "    <tr>\n",
       "      <th>12314</th>\n",
       "      <td>2022-07-11 13:55:00</td>\n",
       "      <td>Sunday</td>\n",
       "      <td>18-30</td>\n",
       "      <td>Female</td>\n",
       "      <td>Junior high school</td>\n",
       "      <td>Employee</td>\n",
       "      <td>Above 10yr</td>\n",
       "      <td>Lorry (41?100Q)</td>\n",
       "      <td>Owner</td>\n",
       "      <td>2-5yrs</td>\n",
       "      <td>...</td>\n",
       "      <td>Other</td>\n",
       "      <td>na</td>\n",
       "      <td>na</td>\n",
       "      <td>na</td>\n",
       "      <td>na</td>\n",
       "      <td>Driver</td>\n",
       "      <td>Normal</td>\n",
       "      <td>Not a Pedestrian</td>\n",
       "      <td>Driving under the influence of drugs</td>\n",
       "      <td>Slight Injury</td>\n",
       "    </tr>\n",
       "    <tr>\n",
       "      <th>12315</th>\n",
       "      <td>2022-07-11 13:55:00</td>\n",
       "      <td>Sunday</td>\n",
       "      <td>18-30</td>\n",
       "      <td>Male</td>\n",
       "      <td>Junior high school</td>\n",
       "      <td>Employee</td>\n",
       "      <td>5-10yr</td>\n",
       "      <td>Other</td>\n",
       "      <td>Owner</td>\n",
       "      <td>2-5yrs</td>\n",
       "      <td>...</td>\n",
       "      <td>Stopping</td>\n",
       "      <td>Pedestrian</td>\n",
       "      <td>Female</td>\n",
       "      <td>5</td>\n",
       "      <td>3</td>\n",
       "      <td>Driver</td>\n",
       "      <td>Normal</td>\n",
       "      <td>Crossing from nearside - masked by parked or s...</td>\n",
       "      <td>Changing lane to the right</td>\n",
       "      <td>Slight Injury</td>\n",
       "    </tr>\n",
       "  </tbody>\n",
       "</table>\n",
       "<p>12316 rows × 32 columns</p>\n",
       "</div>"
      ],
      "text/plain": [
       "                     Time Day_of_week Age_band_of_driver Sex_of_driver  \\\n",
       "0     2022-07-11 17:02:00      Monday              18-30          Male   \n",
       "1     2022-07-11 17:02:00      Monday              31-50          Male   \n",
       "2     2022-07-11 17:02:00      Monday              18-30          Male   \n",
       "3     2022-07-11 01:06:00      Sunday              18-30          Male   \n",
       "4     2022-07-11 01:06:00      Sunday              18-30          Male   \n",
       "...                   ...         ...                ...           ...   \n",
       "12311 2022-07-11 16:15:00   Wednesday              31-50          Male   \n",
       "12312 2022-07-11 18:00:00      Sunday            Unknown          Male   \n",
       "12313 2022-07-11 13:55:00      Sunday            Over 51          Male   \n",
       "12314 2022-07-11 13:55:00      Sunday              18-30        Female   \n",
       "12315 2022-07-11 13:55:00      Sunday              18-30          Male   \n",
       "\n",
       "        Educational_level Vehicle_driver_relation Driving_experience  \\\n",
       "0       Above high school                Employee              1-2yr   \n",
       "1      Junior high school                Employee         Above 10yr   \n",
       "2      Junior high school                Employee              1-2yr   \n",
       "3      Junior high school                Employee             5-10yr   \n",
       "4      Junior high school                Employee              2-5yr   \n",
       "...                   ...                     ...                ...   \n",
       "12311                 NaN                Employee              2-5yr   \n",
       "12312   Elementary school                Employee             5-10yr   \n",
       "12313  Junior high school                Employee             5-10yr   \n",
       "12314  Junior high school                Employee         Above 10yr   \n",
       "12315  Junior high school                Employee             5-10yr   \n",
       "\n",
       "           Type_of_vehicle Owner_of_vehicle Service_year_of_vehicle  ...  \\\n",
       "0               Automobile            Owner              Above 10yr  ...   \n",
       "1      Public (> 45 seats)            Owner                 5-10yrs  ...   \n",
       "2          Lorry (41?100Q)            Owner                     NaN  ...   \n",
       "3      Public (> 45 seats)     Governmental                     NaN  ...   \n",
       "4                      NaN            Owner                 5-10yrs  ...   \n",
       "...                    ...              ...                     ...  ...   \n",
       "12311       Lorry (11?40Q)            Owner                     NaN  ...   \n",
       "12312           Automobile            Owner                     NaN  ...   \n",
       "12313                Bajaj            Owner                  2-5yrs  ...   \n",
       "12314      Lorry (41?100Q)            Owner                  2-5yrs  ...   \n",
       "12315                Other            Owner                  2-5yrs  ...   \n",
       "\n",
       "      Vehicle_movement   Casualty_class Sex_of_casualty Age_band_of_casualty  \\\n",
       "0       Going straight               na              na                   na   \n",
       "1       Going straight               na              na                   na   \n",
       "2       Going straight  Driver or rider            Male                31-50   \n",
       "3       Going straight       Pedestrian          Female                18-30   \n",
       "4       Going straight               na              na                   na   \n",
       "...                ...              ...             ...                  ...   \n",
       "12311   Going straight               na              na                   na   \n",
       "12312            Other               na              na                   na   \n",
       "12313            Other  Driver or rider            Male                31-50   \n",
       "12314            Other               na              na                   na   \n",
       "12315         Stopping       Pedestrian          Female                    5   \n",
       "\n",
       "      Casualty_severity Work_of_casuality Fitness_of_casuality  \\\n",
       "0                    na               NaN                  NaN   \n",
       "1                    na               NaN                  NaN   \n",
       "2                     3            Driver                  NaN   \n",
       "3                     3            Driver               Normal   \n",
       "4                    na               NaN                  NaN   \n",
       "...                 ...               ...                  ...   \n",
       "12311                na            Driver               Normal   \n",
       "12312                na            Driver               Normal   \n",
       "12313                 3            Driver               Normal   \n",
       "12314                na            Driver               Normal   \n",
       "12315                 3            Driver               Normal   \n",
       "\n",
       "                                     Pedestrian_movement  \\\n",
       "0                                       Not a Pedestrian   \n",
       "1                                       Not a Pedestrian   \n",
       "2                                       Not a Pedestrian   \n",
       "3                                       Not a Pedestrian   \n",
       "4                                       Not a Pedestrian   \n",
       "...                                                  ...   \n",
       "12311                                   Not a Pedestrian   \n",
       "12312                                   Not a Pedestrian   \n",
       "12313                                   Not a Pedestrian   \n",
       "12314                                   Not a Pedestrian   \n",
       "12315  Crossing from nearside - masked by parked or s...   \n",
       "\n",
       "                          Cause_of_accident Accident_severity  \n",
       "0                           Moving Backward     Slight Injury  \n",
       "1                                Overtaking     Slight Injury  \n",
       "2                 Changing lane to the left    Serious Injury  \n",
       "3                Changing lane to the right     Slight Injury  \n",
       "4                                Overtaking     Slight Injury  \n",
       "...                                     ...               ...  \n",
       "12311                         No distancing     Slight Injury  \n",
       "12312                         No distancing     Slight Injury  \n",
       "12313            Changing lane to the right    Serious Injury  \n",
       "12314  Driving under the influence of drugs     Slight Injury  \n",
       "12315            Changing lane to the right     Slight Injury  \n",
       "\n",
       "[12316 rows x 32 columns]"
      ]
     },
     "execution_count": 34,
     "metadata": {},
     "output_type": "execute_result"
    }
   ],
   "source": [
    "df1"
   ]
  },
  {
   "cell_type": "code",
   "execution_count": 35,
   "metadata": {},
   "outputs": [],
   "source": [
    "df1['Time'] = df1['Time'].dt.time"
   ]
  },
  {
   "cell_type": "code",
   "execution_count": 36,
   "metadata": {},
   "outputs": [
    {
     "data": {
      "text/html": [
       "<div>\n",
       "<style scoped>\n",
       "    .dataframe tbody tr th:only-of-type {\n",
       "        vertical-align: middle;\n",
       "    }\n",
       "\n",
       "    .dataframe tbody tr th {\n",
       "        vertical-align: top;\n",
       "    }\n",
       "\n",
       "    .dataframe thead th {\n",
       "        text-align: right;\n",
       "    }\n",
       "</style>\n",
       "<table border=\"1\" class=\"dataframe\">\n",
       "  <thead>\n",
       "    <tr style=\"text-align: right;\">\n",
       "      <th></th>\n",
       "      <th>Time</th>\n",
       "      <th>Day_of_week</th>\n",
       "      <th>Age_band_of_driver</th>\n",
       "      <th>Sex_of_driver</th>\n",
       "      <th>Educational_level</th>\n",
       "      <th>Vehicle_driver_relation</th>\n",
       "      <th>Driving_experience</th>\n",
       "      <th>Type_of_vehicle</th>\n",
       "      <th>Owner_of_vehicle</th>\n",
       "      <th>Service_year_of_vehicle</th>\n",
       "      <th>...</th>\n",
       "      <th>Vehicle_movement</th>\n",
       "      <th>Casualty_class</th>\n",
       "      <th>Sex_of_casualty</th>\n",
       "      <th>Age_band_of_casualty</th>\n",
       "      <th>Casualty_severity</th>\n",
       "      <th>Work_of_casuality</th>\n",
       "      <th>Fitness_of_casuality</th>\n",
       "      <th>Pedestrian_movement</th>\n",
       "      <th>Cause_of_accident</th>\n",
       "      <th>Accident_severity</th>\n",
       "    </tr>\n",
       "  </thead>\n",
       "  <tbody>\n",
       "    <tr>\n",
       "      <th>0</th>\n",
       "      <td>17:02:00</td>\n",
       "      <td>Monday</td>\n",
       "      <td>18-30</td>\n",
       "      <td>Male</td>\n",
       "      <td>Above high school</td>\n",
       "      <td>Employee</td>\n",
       "      <td>1-2yr</td>\n",
       "      <td>Automobile</td>\n",
       "      <td>Owner</td>\n",
       "      <td>Above 10yr</td>\n",
       "      <td>...</td>\n",
       "      <td>Going straight</td>\n",
       "      <td>na</td>\n",
       "      <td>na</td>\n",
       "      <td>na</td>\n",
       "      <td>na</td>\n",
       "      <td>NaN</td>\n",
       "      <td>NaN</td>\n",
       "      <td>Not a Pedestrian</td>\n",
       "      <td>Moving Backward</td>\n",
       "      <td>Slight Injury</td>\n",
       "    </tr>\n",
       "    <tr>\n",
       "      <th>1</th>\n",
       "      <td>17:02:00</td>\n",
       "      <td>Monday</td>\n",
       "      <td>31-50</td>\n",
       "      <td>Male</td>\n",
       "      <td>Junior high school</td>\n",
       "      <td>Employee</td>\n",
       "      <td>Above 10yr</td>\n",
       "      <td>Public (&gt; 45 seats)</td>\n",
       "      <td>Owner</td>\n",
       "      <td>5-10yrs</td>\n",
       "      <td>...</td>\n",
       "      <td>Going straight</td>\n",
       "      <td>na</td>\n",
       "      <td>na</td>\n",
       "      <td>na</td>\n",
       "      <td>na</td>\n",
       "      <td>NaN</td>\n",
       "      <td>NaN</td>\n",
       "      <td>Not a Pedestrian</td>\n",
       "      <td>Overtaking</td>\n",
       "      <td>Slight Injury</td>\n",
       "    </tr>\n",
       "    <tr>\n",
       "      <th>2</th>\n",
       "      <td>17:02:00</td>\n",
       "      <td>Monday</td>\n",
       "      <td>18-30</td>\n",
       "      <td>Male</td>\n",
       "      <td>Junior high school</td>\n",
       "      <td>Employee</td>\n",
       "      <td>1-2yr</td>\n",
       "      <td>Lorry (41?100Q)</td>\n",
       "      <td>Owner</td>\n",
       "      <td>NaN</td>\n",
       "      <td>...</td>\n",
       "      <td>Going straight</td>\n",
       "      <td>Driver or rider</td>\n",
       "      <td>Male</td>\n",
       "      <td>31-50</td>\n",
       "      <td>3</td>\n",
       "      <td>Driver</td>\n",
       "      <td>NaN</td>\n",
       "      <td>Not a Pedestrian</td>\n",
       "      <td>Changing lane to the left</td>\n",
       "      <td>Serious Injury</td>\n",
       "    </tr>\n",
       "    <tr>\n",
       "      <th>3</th>\n",
       "      <td>01:06:00</td>\n",
       "      <td>Sunday</td>\n",
       "      <td>18-30</td>\n",
       "      <td>Male</td>\n",
       "      <td>Junior high school</td>\n",
       "      <td>Employee</td>\n",
       "      <td>5-10yr</td>\n",
       "      <td>Public (&gt; 45 seats)</td>\n",
       "      <td>Governmental</td>\n",
       "      <td>NaN</td>\n",
       "      <td>...</td>\n",
       "      <td>Going straight</td>\n",
       "      <td>Pedestrian</td>\n",
       "      <td>Female</td>\n",
       "      <td>18-30</td>\n",
       "      <td>3</td>\n",
       "      <td>Driver</td>\n",
       "      <td>Normal</td>\n",
       "      <td>Not a Pedestrian</td>\n",
       "      <td>Changing lane to the right</td>\n",
       "      <td>Slight Injury</td>\n",
       "    </tr>\n",
       "    <tr>\n",
       "      <th>4</th>\n",
       "      <td>01:06:00</td>\n",
       "      <td>Sunday</td>\n",
       "      <td>18-30</td>\n",
       "      <td>Male</td>\n",
       "      <td>Junior high school</td>\n",
       "      <td>Employee</td>\n",
       "      <td>2-5yr</td>\n",
       "      <td>NaN</td>\n",
       "      <td>Owner</td>\n",
       "      <td>5-10yrs</td>\n",
       "      <td>...</td>\n",
       "      <td>Going straight</td>\n",
       "      <td>na</td>\n",
       "      <td>na</td>\n",
       "      <td>na</td>\n",
       "      <td>na</td>\n",
       "      <td>NaN</td>\n",
       "      <td>NaN</td>\n",
       "      <td>Not a Pedestrian</td>\n",
       "      <td>Overtaking</td>\n",
       "      <td>Slight Injury</td>\n",
       "    </tr>\n",
       "    <tr>\n",
       "      <th>...</th>\n",
       "      <td>...</td>\n",
       "      <td>...</td>\n",
       "      <td>...</td>\n",
       "      <td>...</td>\n",
       "      <td>...</td>\n",
       "      <td>...</td>\n",
       "      <td>...</td>\n",
       "      <td>...</td>\n",
       "      <td>...</td>\n",
       "      <td>...</td>\n",
       "      <td>...</td>\n",
       "      <td>...</td>\n",
       "      <td>...</td>\n",
       "      <td>...</td>\n",
       "      <td>...</td>\n",
       "      <td>...</td>\n",
       "      <td>...</td>\n",
       "      <td>...</td>\n",
       "      <td>...</td>\n",
       "      <td>...</td>\n",
       "      <td>...</td>\n",
       "    </tr>\n",
       "    <tr>\n",
       "      <th>12311</th>\n",
       "      <td>16:15:00</td>\n",
       "      <td>Wednesday</td>\n",
       "      <td>31-50</td>\n",
       "      <td>Male</td>\n",
       "      <td>NaN</td>\n",
       "      <td>Employee</td>\n",
       "      <td>2-5yr</td>\n",
       "      <td>Lorry (11?40Q)</td>\n",
       "      <td>Owner</td>\n",
       "      <td>NaN</td>\n",
       "      <td>...</td>\n",
       "      <td>Going straight</td>\n",
       "      <td>na</td>\n",
       "      <td>na</td>\n",
       "      <td>na</td>\n",
       "      <td>na</td>\n",
       "      <td>Driver</td>\n",
       "      <td>Normal</td>\n",
       "      <td>Not a Pedestrian</td>\n",
       "      <td>No distancing</td>\n",
       "      <td>Slight Injury</td>\n",
       "    </tr>\n",
       "    <tr>\n",
       "      <th>12312</th>\n",
       "      <td>18:00:00</td>\n",
       "      <td>Sunday</td>\n",
       "      <td>Unknown</td>\n",
       "      <td>Male</td>\n",
       "      <td>Elementary school</td>\n",
       "      <td>Employee</td>\n",
       "      <td>5-10yr</td>\n",
       "      <td>Automobile</td>\n",
       "      <td>Owner</td>\n",
       "      <td>NaN</td>\n",
       "      <td>...</td>\n",
       "      <td>Other</td>\n",
       "      <td>na</td>\n",
       "      <td>na</td>\n",
       "      <td>na</td>\n",
       "      <td>na</td>\n",
       "      <td>Driver</td>\n",
       "      <td>Normal</td>\n",
       "      <td>Not a Pedestrian</td>\n",
       "      <td>No distancing</td>\n",
       "      <td>Slight Injury</td>\n",
       "    </tr>\n",
       "    <tr>\n",
       "      <th>12313</th>\n",
       "      <td>13:55:00</td>\n",
       "      <td>Sunday</td>\n",
       "      <td>Over 51</td>\n",
       "      <td>Male</td>\n",
       "      <td>Junior high school</td>\n",
       "      <td>Employee</td>\n",
       "      <td>5-10yr</td>\n",
       "      <td>Bajaj</td>\n",
       "      <td>Owner</td>\n",
       "      <td>2-5yrs</td>\n",
       "      <td>...</td>\n",
       "      <td>Other</td>\n",
       "      <td>Driver or rider</td>\n",
       "      <td>Male</td>\n",
       "      <td>31-50</td>\n",
       "      <td>3</td>\n",
       "      <td>Driver</td>\n",
       "      <td>Normal</td>\n",
       "      <td>Not a Pedestrian</td>\n",
       "      <td>Changing lane to the right</td>\n",
       "      <td>Serious Injury</td>\n",
       "    </tr>\n",
       "    <tr>\n",
       "      <th>12314</th>\n",
       "      <td>13:55:00</td>\n",
       "      <td>Sunday</td>\n",
       "      <td>18-30</td>\n",
       "      <td>Female</td>\n",
       "      <td>Junior high school</td>\n",
       "      <td>Employee</td>\n",
       "      <td>Above 10yr</td>\n",
       "      <td>Lorry (41?100Q)</td>\n",
       "      <td>Owner</td>\n",
       "      <td>2-5yrs</td>\n",
       "      <td>...</td>\n",
       "      <td>Other</td>\n",
       "      <td>na</td>\n",
       "      <td>na</td>\n",
       "      <td>na</td>\n",
       "      <td>na</td>\n",
       "      <td>Driver</td>\n",
       "      <td>Normal</td>\n",
       "      <td>Not a Pedestrian</td>\n",
       "      <td>Driving under the influence of drugs</td>\n",
       "      <td>Slight Injury</td>\n",
       "    </tr>\n",
       "    <tr>\n",
       "      <th>12315</th>\n",
       "      <td>13:55:00</td>\n",
       "      <td>Sunday</td>\n",
       "      <td>18-30</td>\n",
       "      <td>Male</td>\n",
       "      <td>Junior high school</td>\n",
       "      <td>Employee</td>\n",
       "      <td>5-10yr</td>\n",
       "      <td>Other</td>\n",
       "      <td>Owner</td>\n",
       "      <td>2-5yrs</td>\n",
       "      <td>...</td>\n",
       "      <td>Stopping</td>\n",
       "      <td>Pedestrian</td>\n",
       "      <td>Female</td>\n",
       "      <td>5</td>\n",
       "      <td>3</td>\n",
       "      <td>Driver</td>\n",
       "      <td>Normal</td>\n",
       "      <td>Crossing from nearside - masked by parked or s...</td>\n",
       "      <td>Changing lane to the right</td>\n",
       "      <td>Slight Injury</td>\n",
       "    </tr>\n",
       "  </tbody>\n",
       "</table>\n",
       "<p>12316 rows × 32 columns</p>\n",
       "</div>"
      ],
      "text/plain": [
       "           Time Day_of_week Age_band_of_driver Sex_of_driver  \\\n",
       "0      17:02:00      Monday              18-30          Male   \n",
       "1      17:02:00      Monday              31-50          Male   \n",
       "2      17:02:00      Monday              18-30          Male   \n",
       "3      01:06:00      Sunday              18-30          Male   \n",
       "4      01:06:00      Sunday              18-30          Male   \n",
       "...         ...         ...                ...           ...   \n",
       "12311  16:15:00   Wednesday              31-50          Male   \n",
       "12312  18:00:00      Sunday            Unknown          Male   \n",
       "12313  13:55:00      Sunday            Over 51          Male   \n",
       "12314  13:55:00      Sunday              18-30        Female   \n",
       "12315  13:55:00      Sunday              18-30          Male   \n",
       "\n",
       "        Educational_level Vehicle_driver_relation Driving_experience  \\\n",
       "0       Above high school                Employee              1-2yr   \n",
       "1      Junior high school                Employee         Above 10yr   \n",
       "2      Junior high school                Employee              1-2yr   \n",
       "3      Junior high school                Employee             5-10yr   \n",
       "4      Junior high school                Employee              2-5yr   \n",
       "...                   ...                     ...                ...   \n",
       "12311                 NaN                Employee              2-5yr   \n",
       "12312   Elementary school                Employee             5-10yr   \n",
       "12313  Junior high school                Employee             5-10yr   \n",
       "12314  Junior high school                Employee         Above 10yr   \n",
       "12315  Junior high school                Employee             5-10yr   \n",
       "\n",
       "           Type_of_vehicle Owner_of_vehicle Service_year_of_vehicle  ...  \\\n",
       "0               Automobile            Owner              Above 10yr  ...   \n",
       "1      Public (> 45 seats)            Owner                 5-10yrs  ...   \n",
       "2          Lorry (41?100Q)            Owner                     NaN  ...   \n",
       "3      Public (> 45 seats)     Governmental                     NaN  ...   \n",
       "4                      NaN            Owner                 5-10yrs  ...   \n",
       "...                    ...              ...                     ...  ...   \n",
       "12311       Lorry (11?40Q)            Owner                     NaN  ...   \n",
       "12312           Automobile            Owner                     NaN  ...   \n",
       "12313                Bajaj            Owner                  2-5yrs  ...   \n",
       "12314      Lorry (41?100Q)            Owner                  2-5yrs  ...   \n",
       "12315                Other            Owner                  2-5yrs  ...   \n",
       "\n",
       "      Vehicle_movement   Casualty_class Sex_of_casualty Age_band_of_casualty  \\\n",
       "0       Going straight               na              na                   na   \n",
       "1       Going straight               na              na                   na   \n",
       "2       Going straight  Driver or rider            Male                31-50   \n",
       "3       Going straight       Pedestrian          Female                18-30   \n",
       "4       Going straight               na              na                   na   \n",
       "...                ...              ...             ...                  ...   \n",
       "12311   Going straight               na              na                   na   \n",
       "12312            Other               na              na                   na   \n",
       "12313            Other  Driver or rider            Male                31-50   \n",
       "12314            Other               na              na                   na   \n",
       "12315         Stopping       Pedestrian          Female                    5   \n",
       "\n",
       "      Casualty_severity Work_of_casuality Fitness_of_casuality  \\\n",
       "0                    na               NaN                  NaN   \n",
       "1                    na               NaN                  NaN   \n",
       "2                     3            Driver                  NaN   \n",
       "3                     3            Driver               Normal   \n",
       "4                    na               NaN                  NaN   \n",
       "...                 ...               ...                  ...   \n",
       "12311                na            Driver               Normal   \n",
       "12312                na            Driver               Normal   \n",
       "12313                 3            Driver               Normal   \n",
       "12314                na            Driver               Normal   \n",
       "12315                 3            Driver               Normal   \n",
       "\n",
       "                                     Pedestrian_movement  \\\n",
       "0                                       Not a Pedestrian   \n",
       "1                                       Not a Pedestrian   \n",
       "2                                       Not a Pedestrian   \n",
       "3                                       Not a Pedestrian   \n",
       "4                                       Not a Pedestrian   \n",
       "...                                                  ...   \n",
       "12311                                   Not a Pedestrian   \n",
       "12312                                   Not a Pedestrian   \n",
       "12313                                   Not a Pedestrian   \n",
       "12314                                   Not a Pedestrian   \n",
       "12315  Crossing from nearside - masked by parked or s...   \n",
       "\n",
       "                          Cause_of_accident Accident_severity  \n",
       "0                           Moving Backward     Slight Injury  \n",
       "1                                Overtaking     Slight Injury  \n",
       "2                 Changing lane to the left    Serious Injury  \n",
       "3                Changing lane to the right     Slight Injury  \n",
       "4                                Overtaking     Slight Injury  \n",
       "...                                     ...               ...  \n",
       "12311                         No distancing     Slight Injury  \n",
       "12312                         No distancing     Slight Injury  \n",
       "12313            Changing lane to the right    Serious Injury  \n",
       "12314  Driving under the influence of drugs     Slight Injury  \n",
       "12315            Changing lane to the right     Slight Injury  \n",
       "\n",
       "[12316 rows x 32 columns]"
      ]
     },
     "execution_count": 36,
     "metadata": {},
     "output_type": "execute_result"
    }
   ],
   "source": [
    "df1"
   ]
  },
  {
   "cell_type": "code",
   "execution_count": 45,
   "metadata": {},
   "outputs": [],
   "source": [
    "df2 = df1"
   ]
  },
  {
   "cell_type": "code",
   "execution_count": 49,
   "metadata": {},
   "outputs": [],
   "source": [
    "df2['Time']=df2['Time'].astype(str)"
   ]
  },
  {
   "cell_type": "code",
   "execution_count": 99,
   "metadata": {},
   "outputs": [],
   "source": [
    "df2['Hours'] = pd.to_datetime(df2['Time'],format = '%H:%M:%S').dt.hour"
   ]
  },
  {
   "cell_type": "code",
   "execution_count": 109,
   "metadata": {},
   "outputs": [
    {
     "data": {
      "text/plain": [
       "array([17,  1, 14, 22,  8, 15, 12, 18, 13, 20, 16, 21,  9, 10, 19, 11, 23,\n",
       "        7,  0,  5,  6,  4,  3,  2], dtype=int64)"
      ]
     },
     "execution_count": 109,
     "metadata": {},
     "output_type": "execute_result"
    }
   ],
   "source": [
    "df2['Hours'].unique()"
   ]
  },
  {
   "cell_type": "code",
   "execution_count": 103,
   "metadata": {},
   "outputs": [],
   "source": [
    "df2.drop('Time',axis = 1,inplace = True)"
   ]
  },
  {
   "cell_type": "code",
   "execution_count": 115,
   "metadata": {},
   "outputs": [],
   "source": [
    "bins = ['0','6','12','15','20','23']\n",
    "names = ['Early Morning','Morning','Afternoon','Evening','Night']\n",
    "\n",
    "df2['Time_of_day'] = pd.cut(df2['Hours'],bins,labels = names)"
   ]
  },
  {
   "cell_type": "code",
   "execution_count": 116,
   "metadata": {},
   "outputs": [
    {
     "data": {
      "text/html": [
       "<div>\n",
       "<style scoped>\n",
       "    .dataframe tbody tr th:only-of-type {\n",
       "        vertical-align: middle;\n",
       "    }\n",
       "\n",
       "    .dataframe tbody tr th {\n",
       "        vertical-align: top;\n",
       "    }\n",
       "\n",
       "    .dataframe thead th {\n",
       "        text-align: right;\n",
       "    }\n",
       "</style>\n",
       "<table border=\"1\" class=\"dataframe\">\n",
       "  <thead>\n",
       "    <tr style=\"text-align: right;\">\n",
       "      <th></th>\n",
       "      <th>Hours</th>\n",
       "      <th>Time_of_day</th>\n",
       "    </tr>\n",
       "  </thead>\n",
       "  <tbody>\n",
       "    <tr>\n",
       "      <th>0</th>\n",
       "      <td>17</td>\n",
       "      <td>Evening</td>\n",
       "    </tr>\n",
       "    <tr>\n",
       "      <th>1</th>\n",
       "      <td>17</td>\n",
       "      <td>Evening</td>\n",
       "    </tr>\n",
       "    <tr>\n",
       "      <th>2</th>\n",
       "      <td>17</td>\n",
       "      <td>Evening</td>\n",
       "    </tr>\n",
       "    <tr>\n",
       "      <th>3</th>\n",
       "      <td>1</td>\n",
       "      <td>Early Morning</td>\n",
       "    </tr>\n",
       "    <tr>\n",
       "      <th>4</th>\n",
       "      <td>1</td>\n",
       "      <td>Early Morning</td>\n",
       "    </tr>\n",
       "    <tr>\n",
       "      <th>...</th>\n",
       "      <td>...</td>\n",
       "      <td>...</td>\n",
       "    </tr>\n",
       "    <tr>\n",
       "      <th>12311</th>\n",
       "      <td>16</td>\n",
       "      <td>Evening</td>\n",
       "    </tr>\n",
       "    <tr>\n",
       "      <th>12312</th>\n",
       "      <td>18</td>\n",
       "      <td>Evening</td>\n",
       "    </tr>\n",
       "    <tr>\n",
       "      <th>12313</th>\n",
       "      <td>13</td>\n",
       "      <td>Afternoon</td>\n",
       "    </tr>\n",
       "    <tr>\n",
       "      <th>12314</th>\n",
       "      <td>13</td>\n",
       "      <td>Afternoon</td>\n",
       "    </tr>\n",
       "    <tr>\n",
       "      <th>12315</th>\n",
       "      <td>13</td>\n",
       "      <td>Afternoon</td>\n",
       "    </tr>\n",
       "  </tbody>\n",
       "</table>\n",
       "<p>12316 rows × 2 columns</p>\n",
       "</div>"
      ],
      "text/plain": [
       "       Hours    Time_of_day\n",
       "0         17        Evening\n",
       "1         17        Evening\n",
       "2         17        Evening\n",
       "3          1  Early Morning\n",
       "4          1  Early Morning\n",
       "...      ...            ...\n",
       "12311     16        Evening\n",
       "12312     18        Evening\n",
       "12313     13      Afternoon\n",
       "12314     13      Afternoon\n",
       "12315     13      Afternoon\n",
       "\n",
       "[12316 rows x 2 columns]"
      ]
     },
     "execution_count": 116,
     "metadata": {},
     "output_type": "execute_result"
    }
   ],
   "source": [
    "df2[['Hours','Time_of_day']]"
   ]
  },
  {
   "cell_type": "markdown",
   "metadata": {},
   "source": [
    "## Group By Batchwise Analysis"
   ]
  },
  {
   "cell_type": "code",
   "execution_count": 204,
   "metadata": {},
   "outputs": [],
   "source": [
    "df_group_by_time = df2.groupby('Time_of_day')"
   ]
  },
  {
   "cell_type": "markdown",
   "metadata": {},
   "source": [
    "**Mean Number of Vehicles Involed and Causalities Grouped By Time_Of_Occurence**"
   ]
  },
  {
   "cell_type": "code",
   "execution_count": 213,
   "metadata": {},
   "outputs": [],
   "source": [
    "df_group_by_time = df2.groupby('Time_of_day').mean()"
   ]
  },
  {
   "cell_type": "code",
   "execution_count": 214,
   "metadata": {},
   "outputs": [
    {
     "data": {
      "text/html": [
       "<div>\n",
       "<style scoped>\n",
       "    .dataframe tbody tr th:only-of-type {\n",
       "        vertical-align: middle;\n",
       "    }\n",
       "\n",
       "    .dataframe tbody tr th {\n",
       "        vertical-align: top;\n",
       "    }\n",
       "\n",
       "    .dataframe thead th {\n",
       "        text-align: right;\n",
       "    }\n",
       "</style>\n",
       "<table border=\"1\" class=\"dataframe\">\n",
       "  <thead>\n",
       "    <tr style=\"text-align: right;\">\n",
       "      <th></th>\n",
       "      <th>Number_of_vehicles_involved</th>\n",
       "      <th>Number_of_casualties</th>\n",
       "    </tr>\n",
       "    <tr>\n",
       "      <th>Time_of_day</th>\n",
       "      <th></th>\n",
       "      <th></th>\n",
       "    </tr>\n",
       "  </thead>\n",
       "  <tbody>\n",
       "    <tr>\n",
       "      <th>Early Morning</th>\n",
       "      <td>2.038405</td>\n",
       "      <td>1.568316</td>\n",
       "    </tr>\n",
       "    <tr>\n",
       "      <th>Morning</th>\n",
       "      <td>NaN</td>\n",
       "      <td>NaN</td>\n",
       "    </tr>\n",
       "    <tr>\n",
       "      <th>Afternoon</th>\n",
       "      <td>2.078405</td>\n",
       "      <td>1.613953</td>\n",
       "    </tr>\n",
       "    <tr>\n",
       "      <th>Evening</th>\n",
       "      <td>2.034974</td>\n",
       "      <td>1.505570</td>\n",
       "    </tr>\n",
       "    <tr>\n",
       "      <th>Night</th>\n",
       "      <td>2.030632</td>\n",
       "      <td>1.694664</td>\n",
       "    </tr>\n",
       "  </tbody>\n",
       "</table>\n",
       "</div>"
      ],
      "text/plain": [
       "               Number_of_vehicles_involved  Number_of_casualties\n",
       "Time_of_day                                                     \n",
       "Early Morning                     2.038405              1.568316\n",
       "Morning                                NaN                   NaN\n",
       "Afternoon                         2.078405              1.613953\n",
       "Evening                           2.034974              1.505570\n",
       "Night                             2.030632              1.694664"
      ]
     },
     "execution_count": 214,
     "metadata": {},
     "output_type": "execute_result"
    }
   ],
   "source": [
    "df_group_by_time.drop(['Hours'],axis = 1)"
   ]
  },
  {
   "cell_type": "code",
   "execution_count": 215,
   "metadata": {},
   "outputs": [
    {
     "data": {
      "text/html": [
       "<div>\n",
       "<style scoped>\n",
       "    .dataframe tbody tr th:only-of-type {\n",
       "        vertical-align: middle;\n",
       "    }\n",
       "\n",
       "    .dataframe tbody tr th {\n",
       "        vertical-align: top;\n",
       "    }\n",
       "\n",
       "    .dataframe thead th {\n",
       "        text-align: right;\n",
       "    }\n",
       "</style>\n",
       "<table border=\"1\" class=\"dataframe\">\n",
       "  <thead>\n",
       "    <tr style=\"text-align: right;\">\n",
       "      <th></th>\n",
       "      <th>Number_of_vehicles_involved</th>\n",
       "      <th>Number_of_casualties</th>\n",
       "      <th>Hours</th>\n",
       "    </tr>\n",
       "    <tr>\n",
       "      <th>Time_of_day</th>\n",
       "      <th></th>\n",
       "      <th></th>\n",
       "      <th></th>\n",
       "    </tr>\n",
       "  </thead>\n",
       "  <tbody>\n",
       "    <tr>\n",
       "      <th>Early Morning</th>\n",
       "      <td>2.038405</td>\n",
       "      <td>1.568316</td>\n",
       "      <td>11.443501</td>\n",
       "    </tr>\n",
       "    <tr>\n",
       "      <th>Afternoon</th>\n",
       "      <td>2.078405</td>\n",
       "      <td>1.613953</td>\n",
       "      <td>14.061130</td>\n",
       "    </tr>\n",
       "    <tr>\n",
       "      <th>Evening</th>\n",
       "      <td>2.034974</td>\n",
       "      <td>1.505570</td>\n",
       "      <td>13.563531</td>\n",
       "    </tr>\n",
       "    <tr>\n",
       "      <th>Night</th>\n",
       "      <td>2.030632</td>\n",
       "      <td>1.694664</td>\n",
       "      <td>21.810277</td>\n",
       "    </tr>\n",
       "  </tbody>\n",
       "</table>\n",
       "</div>"
      ],
      "text/plain": [
       "               Number_of_vehicles_involved  Number_of_casualties      Hours\n",
       "Time_of_day                                                                \n",
       "Early Morning                     2.038405              1.568316  11.443501\n",
       "Afternoon                         2.078405              1.613953  14.061130\n",
       "Evening                           2.034974              1.505570  13.563531\n",
       "Night                             2.030632              1.694664  21.810277"
      ]
     },
     "execution_count": 215,
     "metadata": {},
     "output_type": "execute_result"
    }
   ],
   "source": [
    "df_group_by_time.drop(['Morning'],axis = 0)"
   ]
  },
  {
   "cell_type": "markdown",
   "metadata": {},
   "source": [
    "### Cross Tab and Pivot Analysis"
   ]
  },
  {
   "cell_type": "markdown",
   "metadata": {},
   "source": [
    "This is not really part of the project. Its just to refresh my knowledge"
   ]
  },
  {
   "cell_type": "code",
   "execution_count": 221,
   "metadata": {},
   "outputs": [
    {
     "data": {
      "text/html": [
       "<div>\n",
       "<style scoped>\n",
       "    .dataframe tbody tr th:only-of-type {\n",
       "        vertical-align: middle;\n",
       "    }\n",
       "\n",
       "    .dataframe tbody tr th {\n",
       "        vertical-align: top;\n",
       "    }\n",
       "\n",
       "    .dataframe thead th {\n",
       "        text-align: right;\n",
       "    }\n",
       "</style>\n",
       "<table border=\"1\" class=\"dataframe\">\n",
       "  <thead>\n",
       "    <tr style=\"text-align: right;\">\n",
       "      <th>Cause_of_accident</th>\n",
       "      <th>Changing lane to the left</th>\n",
       "      <th>Changing lane to the right</th>\n",
       "      <th>Driving at high speed</th>\n",
       "      <th>Driving carelessly</th>\n",
       "      <th>Driving to the left</th>\n",
       "      <th>Driving under the influence of drugs</th>\n",
       "      <th>Drunk driving</th>\n",
       "      <th>Getting off the vehicle improperly</th>\n",
       "      <th>Improper parking</th>\n",
       "      <th>Moving Backward</th>\n",
       "      <th>No distancing</th>\n",
       "      <th>No priority to pedestrian</th>\n",
       "      <th>No priority to vehicle</th>\n",
       "      <th>Other</th>\n",
       "      <th>Overloading</th>\n",
       "      <th>Overspeed</th>\n",
       "      <th>Overtaking</th>\n",
       "      <th>Overturning</th>\n",
       "      <th>Turnover</th>\n",
       "      <th>Unknown</th>\n",
       "    </tr>\n",
       "    <tr>\n",
       "      <th>Time_of_day</th>\n",
       "      <th></th>\n",
       "      <th></th>\n",
       "      <th></th>\n",
       "      <th></th>\n",
       "      <th></th>\n",
       "      <th></th>\n",
       "      <th></th>\n",
       "      <th></th>\n",
       "      <th></th>\n",
       "      <th></th>\n",
       "      <th></th>\n",
       "      <th></th>\n",
       "      <th></th>\n",
       "      <th></th>\n",
       "      <th></th>\n",
       "      <th></th>\n",
       "      <th></th>\n",
       "      <th></th>\n",
       "      <th></th>\n",
       "      <th></th>\n",
       "    </tr>\n",
       "  </thead>\n",
       "  <tbody>\n",
       "    <tr>\n",
       "      <th>Early Morning</th>\n",
       "      <td>332</td>\n",
       "      <td>389</td>\n",
       "      <td>33</td>\n",
       "      <td>310</td>\n",
       "      <td>59</td>\n",
       "      <td>71</td>\n",
       "      <td>8</td>\n",
       "      <td>37</td>\n",
       "      <td>7</td>\n",
       "      <td>234</td>\n",
       "      <td>511</td>\n",
       "      <td>150</td>\n",
       "      <td>272</td>\n",
       "      <td>100</td>\n",
       "      <td>16</td>\n",
       "      <td>12</td>\n",
       "      <td>97</td>\n",
       "      <td>45</td>\n",
       "      <td>18</td>\n",
       "      <td>7</td>\n",
       "    </tr>\n",
       "    <tr>\n",
       "      <th>Afternoon</th>\n",
       "      <td>179</td>\n",
       "      <td>225</td>\n",
       "      <td>14</td>\n",
       "      <td>166</td>\n",
       "      <td>24</td>\n",
       "      <td>49</td>\n",
       "      <td>4</td>\n",
       "      <td>31</td>\n",
       "      <td>2</td>\n",
       "      <td>147</td>\n",
       "      <td>291</td>\n",
       "      <td>77</td>\n",
       "      <td>152</td>\n",
       "      <td>61</td>\n",
       "      <td>5</td>\n",
       "      <td>6</td>\n",
       "      <td>39</td>\n",
       "      <td>24</td>\n",
       "      <td>8</td>\n",
       "      <td>1</td>\n",
       "    </tr>\n",
       "    <tr>\n",
       "      <th>Evening</th>\n",
       "      <td>850</td>\n",
       "      <td>1044</td>\n",
       "      <td>113</td>\n",
       "      <td>796</td>\n",
       "      <td>171</td>\n",
       "      <td>193</td>\n",
       "      <td>15</td>\n",
       "      <td>118</td>\n",
       "      <td>15</td>\n",
       "      <td>659</td>\n",
       "      <td>1270</td>\n",
       "      <td>434</td>\n",
       "      <td>676</td>\n",
       "      <td>266</td>\n",
       "      <td>33</td>\n",
       "      <td>39</td>\n",
       "      <td>260</td>\n",
       "      <td>74</td>\n",
       "      <td>49</td>\n",
       "      <td>16</td>\n",
       "    </tr>\n",
       "    <tr>\n",
       "      <th>Night</th>\n",
       "      <td>112</td>\n",
       "      <td>150</td>\n",
       "      <td>14</td>\n",
       "      <td>130</td>\n",
       "      <td>30</td>\n",
       "      <td>27</td>\n",
       "      <td>0</td>\n",
       "      <td>11</td>\n",
       "      <td>1</td>\n",
       "      <td>97</td>\n",
       "      <td>191</td>\n",
       "      <td>60</td>\n",
       "      <td>107</td>\n",
       "      <td>29</td>\n",
       "      <td>5</td>\n",
       "      <td>4</td>\n",
       "      <td>34</td>\n",
       "      <td>6</td>\n",
       "      <td>3</td>\n",
       "      <td>1</td>\n",
       "    </tr>\n",
       "  </tbody>\n",
       "</table>\n",
       "</div>"
      ],
      "text/plain": [
       "Cause_of_accident  Changing lane to the left  Changing lane to the right  \\\n",
       "Time_of_day                                                                \n",
       "Early Morning                            332                         389   \n",
       "Afternoon                                179                         225   \n",
       "Evening                                  850                        1044   \n",
       "Night                                    112                         150   \n",
       "\n",
       "Cause_of_accident  Driving at high speed  Driving carelessly  \\\n",
       "Time_of_day                                                    \n",
       "Early Morning                         33                 310   \n",
       "Afternoon                             14                 166   \n",
       "Evening                              113                 796   \n",
       "Night                                 14                 130   \n",
       "\n",
       "Cause_of_accident  Driving to the left  Driving under the influence of drugs  \\\n",
       "Time_of_day                                                                    \n",
       "Early Morning                       59                                    71   \n",
       "Afternoon                           24                                    49   \n",
       "Evening                            171                                   193   \n",
       "Night                               30                                    27   \n",
       "\n",
       "Cause_of_accident  Drunk driving  Getting off the vehicle improperly  \\\n",
       "Time_of_day                                                            \n",
       "Early Morning                  8                                  37   \n",
       "Afternoon                      4                                  31   \n",
       "Evening                       15                                 118   \n",
       "Night                          0                                  11   \n",
       "\n",
       "Cause_of_accident  Improper parking  Moving Backward  No distancing  \\\n",
       "Time_of_day                                                           \n",
       "Early Morning                     7              234            511   \n",
       "Afternoon                         2              147            291   \n",
       "Evening                          15              659           1270   \n",
       "Night                             1               97            191   \n",
       "\n",
       "Cause_of_accident  No priority to pedestrian  No priority to vehicle  Other  \\\n",
       "Time_of_day                                                                   \n",
       "Early Morning                            150                     272    100   \n",
       "Afternoon                                 77                     152     61   \n",
       "Evening                                  434                     676    266   \n",
       "Night                                     60                     107     29   \n",
       "\n",
       "Cause_of_accident  Overloading  Overspeed  Overtaking  Overturning  Turnover  \\\n",
       "Time_of_day                                                                    \n",
       "Early Morning               16         12          97           45        18   \n",
       "Afternoon                    5          6          39           24         8   \n",
       "Evening                     33         39         260           74        49   \n",
       "Night                        5          4          34            6         3   \n",
       "\n",
       "Cause_of_accident  Unknown  \n",
       "Time_of_day                 \n",
       "Early Morning            7  \n",
       "Afternoon                1  \n",
       "Evening                 16  \n",
       "Night                    1  "
      ]
     },
     "execution_count": 221,
     "metadata": {},
     "output_type": "execute_result"
    }
   ],
   "source": [
    "pd.crosstab(df2[\"Time_of_day\"],df2['Cause_of_accident'])"
   ]
  },
  {
   "cell_type": "markdown",
   "metadata": {},
   "source": [
    "Each value generated is the frequency count with which each of these would show up in the dataset"
   ]
  },
  {
   "cell_type": "markdown",
   "metadata": {},
   "source": [
    "## 3. Exploratory Data Analysis"
   ]
  },
  {
   "cell_type": "code",
   "execution_count": 160,
   "metadata": {},
   "outputs": [],
   "source": [
    "df_eda = df2"
   ]
  },
  {
   "cell_type": "code",
   "execution_count": 161,
   "metadata": {
    "scrolled": true
   },
   "outputs": [
    {
     "data": {
      "text/html": [
       "<div>\n",
       "<style scoped>\n",
       "    .dataframe tbody tr th:only-of-type {\n",
       "        vertical-align: middle;\n",
       "    }\n",
       "\n",
       "    .dataframe tbody tr th {\n",
       "        vertical-align: top;\n",
       "    }\n",
       "\n",
       "    .dataframe thead th {\n",
       "        text-align: right;\n",
       "    }\n",
       "</style>\n",
       "<table border=\"1\" class=\"dataframe\">\n",
       "  <thead>\n",
       "    <tr style=\"text-align: right;\">\n",
       "      <th></th>\n",
       "      <th>index</th>\n",
       "      <th>Day_of_week</th>\n",
       "      <th>Age_band_of_driver</th>\n",
       "      <th>Sex_of_driver</th>\n",
       "      <th>Educational_level</th>\n",
       "      <th>Vehicle_driver_relation</th>\n",
       "      <th>Driving_experience</th>\n",
       "      <th>Type_of_vehicle</th>\n",
       "      <th>Owner_of_vehicle</th>\n",
       "      <th>Service_year_of_vehicle</th>\n",
       "      <th>...</th>\n",
       "      <th>Sex_of_casualty</th>\n",
       "      <th>Age_band_of_casualty</th>\n",
       "      <th>Casualty_severity</th>\n",
       "      <th>Work_of_casuality</th>\n",
       "      <th>Fitness_of_casuality</th>\n",
       "      <th>Pedestrian_movement</th>\n",
       "      <th>Cause_of_accident</th>\n",
       "      <th>Accident_severity</th>\n",
       "      <th>Hours</th>\n",
       "      <th>Time_of_day</th>\n",
       "    </tr>\n",
       "  </thead>\n",
       "  <tbody>\n",
       "    <tr>\n",
       "      <th>0</th>\n",
       "      <td>0</td>\n",
       "      <td>Monday</td>\n",
       "      <td>18-30</td>\n",
       "      <td>Male</td>\n",
       "      <td>Above high school</td>\n",
       "      <td>Employee</td>\n",
       "      <td>1-2yr</td>\n",
       "      <td>Automobile</td>\n",
       "      <td>Owner</td>\n",
       "      <td>Above 10yr</td>\n",
       "      <td>...</td>\n",
       "      <td>na</td>\n",
       "      <td>na</td>\n",
       "      <td>na</td>\n",
       "      <td>Driver</td>\n",
       "      <td>Normal</td>\n",
       "      <td>Not a Pedestrian</td>\n",
       "      <td>Moving Backward</td>\n",
       "      <td>Slight Injury</td>\n",
       "      <td>17</td>\n",
       "      <td>Evening</td>\n",
       "    </tr>\n",
       "    <tr>\n",
       "      <th>1</th>\n",
       "      <td>1</td>\n",
       "      <td>Monday</td>\n",
       "      <td>31-50</td>\n",
       "      <td>Male</td>\n",
       "      <td>Junior high school</td>\n",
       "      <td>Employee</td>\n",
       "      <td>Above 10yr</td>\n",
       "      <td>Public (&gt; 45 seats)</td>\n",
       "      <td>Owner</td>\n",
       "      <td>5-10yrs</td>\n",
       "      <td>...</td>\n",
       "      <td>na</td>\n",
       "      <td>na</td>\n",
       "      <td>na</td>\n",
       "      <td>Driver</td>\n",
       "      <td>Normal</td>\n",
       "      <td>Not a Pedestrian</td>\n",
       "      <td>Overtaking</td>\n",
       "      <td>Slight Injury</td>\n",
       "      <td>17</td>\n",
       "      <td>Evening</td>\n",
       "    </tr>\n",
       "    <tr>\n",
       "      <th>2</th>\n",
       "      <td>2</td>\n",
       "      <td>Monday</td>\n",
       "      <td>18-30</td>\n",
       "      <td>Male</td>\n",
       "      <td>Junior high school</td>\n",
       "      <td>Employee</td>\n",
       "      <td>1-2yr</td>\n",
       "      <td>Lorry (41?100Q)</td>\n",
       "      <td>Owner</td>\n",
       "      <td>Unknown</td>\n",
       "      <td>...</td>\n",
       "      <td>Male</td>\n",
       "      <td>31-50</td>\n",
       "      <td>3</td>\n",
       "      <td>Driver</td>\n",
       "      <td>Normal</td>\n",
       "      <td>Not a Pedestrian</td>\n",
       "      <td>Changing lane to the left</td>\n",
       "      <td>Serious Injury</td>\n",
       "      <td>17</td>\n",
       "      <td>Evening</td>\n",
       "    </tr>\n",
       "    <tr>\n",
       "      <th>3</th>\n",
       "      <td>3</td>\n",
       "      <td>Sunday</td>\n",
       "      <td>18-30</td>\n",
       "      <td>Male</td>\n",
       "      <td>Junior high school</td>\n",
       "      <td>Employee</td>\n",
       "      <td>5-10yr</td>\n",
       "      <td>Public (&gt; 45 seats)</td>\n",
       "      <td>Governmental</td>\n",
       "      <td>Unknown</td>\n",
       "      <td>...</td>\n",
       "      <td>Female</td>\n",
       "      <td>18-30</td>\n",
       "      <td>3</td>\n",
       "      <td>Driver</td>\n",
       "      <td>Normal</td>\n",
       "      <td>Not a Pedestrian</td>\n",
       "      <td>Changing lane to the right</td>\n",
       "      <td>Slight Injury</td>\n",
       "      <td>1</td>\n",
       "      <td>Early Morning</td>\n",
       "    </tr>\n",
       "    <tr>\n",
       "      <th>4</th>\n",
       "      <td>4</td>\n",
       "      <td>Sunday</td>\n",
       "      <td>18-30</td>\n",
       "      <td>Male</td>\n",
       "      <td>Junior high school</td>\n",
       "      <td>Employee</td>\n",
       "      <td>2-5yr</td>\n",
       "      <td>Automobile</td>\n",
       "      <td>Owner</td>\n",
       "      <td>5-10yrs</td>\n",
       "      <td>...</td>\n",
       "      <td>na</td>\n",
       "      <td>na</td>\n",
       "      <td>na</td>\n",
       "      <td>Driver</td>\n",
       "      <td>Normal</td>\n",
       "      <td>Not a Pedestrian</td>\n",
       "      <td>Overtaking</td>\n",
       "      <td>Slight Injury</td>\n",
       "      <td>1</td>\n",
       "      <td>Early Morning</td>\n",
       "    </tr>\n",
       "    <tr>\n",
       "      <th>...</th>\n",
       "      <td>...</td>\n",
       "      <td>...</td>\n",
       "      <td>...</td>\n",
       "      <td>...</td>\n",
       "      <td>...</td>\n",
       "      <td>...</td>\n",
       "      <td>...</td>\n",
       "      <td>...</td>\n",
       "      <td>...</td>\n",
       "      <td>...</td>\n",
       "      <td>...</td>\n",
       "      <td>...</td>\n",
       "      <td>...</td>\n",
       "      <td>...</td>\n",
       "      <td>...</td>\n",
       "      <td>...</td>\n",
       "      <td>...</td>\n",
       "      <td>...</td>\n",
       "      <td>...</td>\n",
       "      <td>...</td>\n",
       "      <td>...</td>\n",
       "    </tr>\n",
       "    <tr>\n",
       "      <th>12311</th>\n",
       "      <td>12311</td>\n",
       "      <td>Wednesday</td>\n",
       "      <td>31-50</td>\n",
       "      <td>Male</td>\n",
       "      <td>Junior high school</td>\n",
       "      <td>Employee</td>\n",
       "      <td>2-5yr</td>\n",
       "      <td>Lorry (11?40Q)</td>\n",
       "      <td>Owner</td>\n",
       "      <td>Unknown</td>\n",
       "      <td>...</td>\n",
       "      <td>na</td>\n",
       "      <td>na</td>\n",
       "      <td>na</td>\n",
       "      <td>Driver</td>\n",
       "      <td>Normal</td>\n",
       "      <td>Not a Pedestrian</td>\n",
       "      <td>No distancing</td>\n",
       "      <td>Slight Injury</td>\n",
       "      <td>16</td>\n",
       "      <td>Evening</td>\n",
       "    </tr>\n",
       "    <tr>\n",
       "      <th>12312</th>\n",
       "      <td>12312</td>\n",
       "      <td>Sunday</td>\n",
       "      <td>Unknown</td>\n",
       "      <td>Male</td>\n",
       "      <td>Elementary school</td>\n",
       "      <td>Employee</td>\n",
       "      <td>5-10yr</td>\n",
       "      <td>Automobile</td>\n",
       "      <td>Owner</td>\n",
       "      <td>Unknown</td>\n",
       "      <td>...</td>\n",
       "      <td>na</td>\n",
       "      <td>na</td>\n",
       "      <td>na</td>\n",
       "      <td>Driver</td>\n",
       "      <td>Normal</td>\n",
       "      <td>Not a Pedestrian</td>\n",
       "      <td>No distancing</td>\n",
       "      <td>Slight Injury</td>\n",
       "      <td>18</td>\n",
       "      <td>Evening</td>\n",
       "    </tr>\n",
       "    <tr>\n",
       "      <th>12313</th>\n",
       "      <td>12313</td>\n",
       "      <td>Sunday</td>\n",
       "      <td>Over 51</td>\n",
       "      <td>Male</td>\n",
       "      <td>Junior high school</td>\n",
       "      <td>Employee</td>\n",
       "      <td>5-10yr</td>\n",
       "      <td>Bajaj</td>\n",
       "      <td>Owner</td>\n",
       "      <td>2-5yrs</td>\n",
       "      <td>...</td>\n",
       "      <td>Male</td>\n",
       "      <td>31-50</td>\n",
       "      <td>3</td>\n",
       "      <td>Driver</td>\n",
       "      <td>Normal</td>\n",
       "      <td>Not a Pedestrian</td>\n",
       "      <td>Changing lane to the right</td>\n",
       "      <td>Serious Injury</td>\n",
       "      <td>13</td>\n",
       "      <td>Afternoon</td>\n",
       "    </tr>\n",
       "    <tr>\n",
       "      <th>12314</th>\n",
       "      <td>12314</td>\n",
       "      <td>Sunday</td>\n",
       "      <td>18-30</td>\n",
       "      <td>Female</td>\n",
       "      <td>Junior high school</td>\n",
       "      <td>Employee</td>\n",
       "      <td>Above 10yr</td>\n",
       "      <td>Lorry (41?100Q)</td>\n",
       "      <td>Owner</td>\n",
       "      <td>2-5yrs</td>\n",
       "      <td>...</td>\n",
       "      <td>na</td>\n",
       "      <td>na</td>\n",
       "      <td>na</td>\n",
       "      <td>Driver</td>\n",
       "      <td>Normal</td>\n",
       "      <td>Not a Pedestrian</td>\n",
       "      <td>Driving under the influence of drugs</td>\n",
       "      <td>Slight Injury</td>\n",
       "      <td>13</td>\n",
       "      <td>Afternoon</td>\n",
       "    </tr>\n",
       "    <tr>\n",
       "      <th>12315</th>\n",
       "      <td>12315</td>\n",
       "      <td>Sunday</td>\n",
       "      <td>18-30</td>\n",
       "      <td>Male</td>\n",
       "      <td>Junior high school</td>\n",
       "      <td>Employee</td>\n",
       "      <td>5-10yr</td>\n",
       "      <td>Other</td>\n",
       "      <td>Owner</td>\n",
       "      <td>2-5yrs</td>\n",
       "      <td>...</td>\n",
       "      <td>Female</td>\n",
       "      <td>5</td>\n",
       "      <td>3</td>\n",
       "      <td>Driver</td>\n",
       "      <td>Normal</td>\n",
       "      <td>Crossing from nearside - masked by parked or s...</td>\n",
       "      <td>Changing lane to the right</td>\n",
       "      <td>Slight Injury</td>\n",
       "      <td>13</td>\n",
       "      <td>Afternoon</td>\n",
       "    </tr>\n",
       "  </tbody>\n",
       "</table>\n",
       "<p>12316 rows × 34 columns</p>\n",
       "</div>"
      ],
      "text/plain": [
       "       index Day_of_week Age_band_of_driver Sex_of_driver   Educational_level  \\\n",
       "0          0      Monday              18-30          Male   Above high school   \n",
       "1          1      Monday              31-50          Male  Junior high school   \n",
       "2          2      Monday              18-30          Male  Junior high school   \n",
       "3          3      Sunday              18-30          Male  Junior high school   \n",
       "4          4      Sunday              18-30          Male  Junior high school   \n",
       "...      ...         ...                ...           ...                 ...   \n",
       "12311  12311   Wednesday              31-50          Male  Junior high school   \n",
       "12312  12312      Sunday            Unknown          Male   Elementary school   \n",
       "12313  12313      Sunday            Over 51          Male  Junior high school   \n",
       "12314  12314      Sunday              18-30        Female  Junior high school   \n",
       "12315  12315      Sunday              18-30          Male  Junior high school   \n",
       "\n",
       "      Vehicle_driver_relation Driving_experience      Type_of_vehicle  \\\n",
       "0                    Employee              1-2yr           Automobile   \n",
       "1                    Employee         Above 10yr  Public (> 45 seats)   \n",
       "2                    Employee              1-2yr      Lorry (41?100Q)   \n",
       "3                    Employee             5-10yr  Public (> 45 seats)   \n",
       "4                    Employee              2-5yr           Automobile   \n",
       "...                       ...                ...                  ...   \n",
       "12311                Employee              2-5yr       Lorry (11?40Q)   \n",
       "12312                Employee             5-10yr           Automobile   \n",
       "12313                Employee             5-10yr                Bajaj   \n",
       "12314                Employee         Above 10yr      Lorry (41?100Q)   \n",
       "12315                Employee             5-10yr                Other   \n",
       "\n",
       "      Owner_of_vehicle Service_year_of_vehicle  ... Sex_of_casualty  \\\n",
       "0                Owner              Above 10yr  ...              na   \n",
       "1                Owner                 5-10yrs  ...              na   \n",
       "2                Owner                 Unknown  ...            Male   \n",
       "3         Governmental                 Unknown  ...          Female   \n",
       "4                Owner                 5-10yrs  ...              na   \n",
       "...                ...                     ...  ...             ...   \n",
       "12311            Owner                 Unknown  ...              na   \n",
       "12312            Owner                 Unknown  ...              na   \n",
       "12313            Owner                  2-5yrs  ...            Male   \n",
       "12314            Owner                  2-5yrs  ...              na   \n",
       "12315            Owner                  2-5yrs  ...          Female   \n",
       "\n",
       "      Age_band_of_casualty Casualty_severity Work_of_casuality  \\\n",
       "0                       na                na            Driver   \n",
       "1                       na                na            Driver   \n",
       "2                    31-50                 3            Driver   \n",
       "3                    18-30                 3            Driver   \n",
       "4                       na                na            Driver   \n",
       "...                    ...               ...               ...   \n",
       "12311                   na                na            Driver   \n",
       "12312                   na                na            Driver   \n",
       "12313                31-50                 3            Driver   \n",
       "12314                   na                na            Driver   \n",
       "12315                    5                 3            Driver   \n",
       "\n",
       "      Fitness_of_casuality                                Pedestrian_movement  \\\n",
       "0                   Normal                                   Not a Pedestrian   \n",
       "1                   Normal                                   Not a Pedestrian   \n",
       "2                   Normal                                   Not a Pedestrian   \n",
       "3                   Normal                                   Not a Pedestrian   \n",
       "4                   Normal                                   Not a Pedestrian   \n",
       "...                    ...                                                ...   \n",
       "12311               Normal                                   Not a Pedestrian   \n",
       "12312               Normal                                   Not a Pedestrian   \n",
       "12313               Normal                                   Not a Pedestrian   \n",
       "12314               Normal                                   Not a Pedestrian   \n",
       "12315               Normal  Crossing from nearside - masked by parked or s...   \n",
       "\n",
       "                          Cause_of_accident Accident_severity Hours  \\\n",
       "0                           Moving Backward     Slight Injury    17   \n",
       "1                                Overtaking     Slight Injury    17   \n",
       "2                 Changing lane to the left    Serious Injury    17   \n",
       "3                Changing lane to the right     Slight Injury     1   \n",
       "4                                Overtaking     Slight Injury     1   \n",
       "...                                     ...               ...   ...   \n",
       "12311                         No distancing     Slight Injury    16   \n",
       "12312                         No distancing     Slight Injury    18   \n",
       "12313            Changing lane to the right    Serious Injury    13   \n",
       "12314  Driving under the influence of drugs     Slight Injury    13   \n",
       "12315            Changing lane to the right     Slight Injury    13   \n",
       "\n",
       "         Time_of_day  \n",
       "0            Evening  \n",
       "1            Evening  \n",
       "2            Evening  \n",
       "3      Early Morning  \n",
       "4      Early Morning  \n",
       "...              ...  \n",
       "12311        Evening  \n",
       "12312        Evening  \n",
       "12313      Afternoon  \n",
       "12314      Afternoon  \n",
       "12315      Afternoon  \n",
       "\n",
       "[12316 rows x 34 columns]"
      ]
     },
     "execution_count": 161,
     "metadata": {},
     "output_type": "execute_result"
    }
   ],
   "source": [
    "df_eda.reset_index()"
   ]
  },
  {
   "cell_type": "code",
   "execution_count": 162,
   "metadata": {},
   "outputs": [
    {
     "data": {
      "text/plain": [
       "array([[<AxesSubplot:title={'center':'Number_of_vehicles_involved'}>,\n",
       "        <AxesSubplot:title={'center':'Number_of_casualties'}>],\n",
       "       [<AxesSubplot:title={'center':'Hours'}>, <AxesSubplot:>]],\n",
       "      dtype=object)"
      ]
     },
     "execution_count": 162,
     "metadata": {},
     "output_type": "execute_result"
    },
    {
     "data": {
      "image/png": "[encoded data removed]",
      "text/plain": [
       "<Figure size 432x288 with 4 Axes>"
      ]
     },
     "metadata": {
      "needs_background": "light"
     },
     "output_type": "display_data"
    }
   ],
   "source": [
    "df_eda.hist()"
   ]
  },
  {
   "cell_type": "markdown",
   "metadata": {},
   "source": [
    "**Does the numerical feature follow normal distribution?**"
   ]
  },
  {
   "cell_type": "code",
   "execution_count": 163,
   "metadata": {},
   "outputs": [
    {
     "data": {
      "text/plain": [
       "<AxesSubplot:xlabel='Number_of_vehicles_involved', ylabel='Density'>"
      ]
     },
     "execution_count": 163,
     "metadata": {},
     "output_type": "execute_result"
    },
    {
     "data": {
      "image/png": "[encoded data removed]",
      "text/plain": [
       "<Figure size 432x288 with 1 Axes>"
      ]
     },
     "metadata": {
      "needs_background": "light"
     },
     "output_type": "display_data"
    }
   ],
   "source": [
    "sns.distplot(df['Number_of_vehicles_involved'],kde = True)"
   ]
  },
  {
   "cell_type": "markdown",
   "metadata": {},
   "source": [
    "#### QQ Plot Analysis"
   ]
  },
  {
   "cell_type": "code",
   "execution_count": 164,
   "metadata": {},
   "outputs": [
    {
     "data": {
      "text/plain": [
       "((array([-3.8617944 , -3.63945684, -3.51752013, ...,  3.51752013,\n",
       "          3.63945684,  3.8617944 ]),\n",
       "  array([1, 1, 1, ..., 7, 7, 7], dtype=int64)),\n",
       " (0.5895910465603204, 2.0406787918155245, 0.8557623242858671))"
      ]
     },
     "execution_count": 164,
     "metadata": {},
     "output_type": "execute_result"
    },
    {
     "data": {
      "image/png": "[encoded data removed]",
      "text/plain": [
       "<Figure size 432x288 with 1 Axes>"
      ]
     },
     "metadata": {
      "needs_background": "light"
     },
     "output_type": "display_data"
    }
   ],
   "source": [
    "import scipy.stats as stats\n",
    "import pylab \n",
    "\n",
    "stats.probplot(df2['Number_of_vehicles_involved'], dist=\"norm\", plot=pylab)"
   ]
  },
  {
   "cell_type": "markdown",
   "metadata": {},
   "source": [
    "We can clearly observe that the values are not normally distributed"
   ]
  },
  {
   "cell_type": "markdown",
   "metadata": {},
   "source": [
    "### Analysis of Categorical Features"
   ]
  },
  {
   "cell_type": "code",
   "execution_count": 165,
   "metadata": {},
   "outputs": [
    {
     "data": {
      "text/plain": [
       "<AxesSubplot:xlabel='count', ylabel='Day_of_week'>"
      ]
     },
     "execution_count": 165,
     "metadata": {},
     "output_type": "execute_result"
    },
    {
     "data": {
      "image/png": "[encoded data removed]",
      "text/plain": [
       "<Figure size 432x288 with 1 Axes>"
      ]
     },
     "metadata": {
      "needs_background": "light"
     },
     "output_type": "display_data"
    }
   ],
   "source": [
    "sns.countplot(y = \"Day_of_week\",data = df_eda)"
   ]
  },
  {
   "cell_type": "markdown",
   "metadata": {},
   "source": [
    "**Observation :** \n",
    "Friday has the most number of accidents closely followed by Thursdays"
   ]
  },
  {
   "cell_type": "code",
   "execution_count": 179,
   "metadata": {},
   "outputs": [],
   "source": [
    "df['Age_band_of_driver'].mask(df['Age_band_of_driver'] == 'Unknown',df['Age_band_of_driver'].mode().iloc[0], inplace=True)"
   ]
  },
  {
   "cell_type": "code",
   "execution_count": 181,
   "metadata": {},
   "outputs": [
    {
     "data": {
      "text/plain": [
       "<AxesSubplot:xlabel='count', ylabel='Age_band_of_driver'>"
      ]
     },
     "execution_count": 181,
     "metadata": {},
     "output_type": "execute_result"
    },
    {
     "data": {
      "image/png": "[encoded data removed]",
      "text/plain": [
       "<Figure size 432x288 with 1 Axes>"
      ]
     },
     "metadata": {
      "needs_background": "light"
     },
     "output_type": "display_data"
    }
   ],
   "source": [
    "sns.countplot(y = 'Age_band_of_driver',data = df)"
   ]
  },
  {
   "cell_type": "markdown",
   "metadata": {},
   "source": [
    "**Observation :**\n",
    "Most of the drivers are in the range of 18-30 and 31-50 years"
   ]
  },
  {
   "cell_type": "code",
   "execution_count": 167,
   "metadata": {},
   "outputs": [
    {
     "data": {
      "text/plain": [
       "<AxesSubplot:xlabel='count', ylabel='Type_of_vehicle'>"
      ]
     },
     "execution_count": 167,
     "metadata": {},
     "output_type": "execute_result"
    },
    {
     "data": {
      "image/png": "[encoded data removed]",
      "text/plain": [
       "<Figure size 432x288 with 1 Axes>"
      ]
     },
     "metadata": {
      "needs_background": "light"
     },
     "output_type": "display_data"
    }
   ],
   "source": [
    "sns.countplot(y = 'Type_of_vehicle',data = df_eda)"
   ]
  },
  {
   "cell_type": "markdown",
   "metadata": {},
   "source": [
    "**Observation :** More than 3000 accidents are caused by automobiles followed by Lorry "
   ]
  },
  {
   "cell_type": "code",
   "execution_count": 182,
   "metadata": {},
   "outputs": [],
   "source": [
    "df['Driving_experience'].mask(df['Driving_experience'] == 'NaN',df['Driving_experience'].mode().iloc[0], inplace=True)"
   ]
  },
  {
   "cell_type": "code",
   "execution_count": 184,
   "metadata": {},
   "outputs": [
    {
     "data": {
      "text/plain": [
       "<AxesSubplot:xlabel='count', ylabel='Driving_experience'>"
      ]
     },
     "execution_count": 184,
     "metadata": {},
     "output_type": "execute_result"
    },
    {
     "data": {
      "image/png": "[encoded data removed]",
      "text/plain": [
       "<Figure size 432x288 with 1 Axes>"
      ]
     },
     "metadata": {
      "needs_background": "light"
     },
     "output_type": "display_data"
    }
   ],
   "source": [
    "sns.countplot(y = 'Driving_experience',data = df)"
   ]
  },
  {
   "cell_type": "markdown",
   "metadata": {},
   "source": [
    "**Observation** : Most of the accidents(close to 3250) are caused by the drivers in the experience level of 5-10 years"
   ]
  },
  {
   "cell_type": "code",
   "execution_count": 185,
   "metadata": {},
   "outputs": [
    {
     "data": {
      "text/plain": [
       "<AxesSubplot:xlabel='count', ylabel='Educational_level'>"
      ]
     },
     "execution_count": 185,
     "metadata": {},
     "output_type": "execute_result"
    },
    {
     "data": {
      "image/png": "[encoded data removed]",
      "text/plain": [
       "<Figure size 432x288 with 1 Axes>"
      ]
     },
     "metadata": {
      "needs_background": "light"
     },
     "output_type": "display_data"
    }
   ],
   "source": [
    "sns.countplot(y = 'Educational_level',data = df)"
   ]
  },
  {
   "cell_type": "markdown",
   "metadata": {},
   "source": [
    " \n",
    "\n",
    "**Observation:** More than 7000 accidents / 130000 accidents are caused by drivers who are Junior high school grads."
   ]
  },
  {
   "cell_type": "code",
   "execution_count": 187,
   "metadata": {},
   "outputs": [],
   "source": [
    "df['Sex_of_driver'].mask(df['Sex_of_driver'] == 'Unknown',df['Sex_of_driver'].mode().iloc[0], inplace=True)"
   ]
  },
  {
   "cell_type": "code",
   "execution_count": 188,
   "metadata": {},
   "outputs": [
    {
     "data": {
      "text/plain": [
       "<AxesSubplot:xlabel='count', ylabel='Sex_of_driver'>"
      ]
     },
     "execution_count": 188,
     "metadata": {},
     "output_type": "execute_result"
    },
    {
     "data": {
      "image/png": "[encoded data removed]",
      "text/plain": [
       "<Figure size 432x288 with 1 Axes>"
      ]
     },
     "metadata": {
      "needs_background": "light"
     },
     "output_type": "display_data"
    }
   ],
   "source": [
    "sns.countplot(y = 'Sex_of_driver',data = df)"
   ]
  },
  {
   "cell_type": "markdown",
   "metadata": {},
   "source": [
    "**Observation** : More than 11000 observations have Male Drivers who caused the accident. This also indicates class imbalance in the dataset"
   ]
  },
  {
   "cell_type": "code",
   "execution_count": 189,
   "metadata": {},
   "outputs": [
    {
     "data": {
      "text/plain": [
       "<AxesSubplot:xlabel='count', ylabel='Cause_of_accident'>"
      ]
     },
     "execution_count": 189,
     "metadata": {},
     "output_type": "execute_result"
    },
    {
     "data": {
      "image/png": "[encoded data removed]",
      "text/plain": [
       "<Figure size 432x288 with 1 Axes>"
      ]
     },
     "metadata": {
      "needs_background": "light"
     },
     "output_type": "display_data"
    }
   ],
   "source": [
    "sns.countplot(y = 'Cause_of_accident',data = df_eda)"
   ]
  },
  {
   "cell_type": "markdown",
   "metadata": {},
   "source": [
    "**Observation** : Not maintaining distance between vehicle and pedestrian has caused the most accidents caused by sudden lane changes"
   ]
  },
  {
   "cell_type": "code",
   "execution_count": 194,
   "metadata": {},
   "outputs": [],
   "source": [
    "df['Owner_of_vehicle'].mask(df['Owner_of_vehicle'] == 'Other',df['Owner_of_vehicle'].mode().iloc[0], inplace=True)"
   ]
  },
  {
   "cell_type": "code",
   "execution_count": 195,
   "metadata": {},
   "outputs": [
    {
     "data": {
      "text/plain": [
       "<AxesSubplot:xlabel='count', ylabel='Owner_of_vehicle'>"
      ]
     },
     "execution_count": 195,
     "metadata": {},
     "output_type": "execute_result"
    },
    {
     "data": {
      "image/png": "[encoded data removed]",
      "text/plain": [
       "<Figure size 432x288 with 1 Axes>"
      ]
     },
     "metadata": {
      "needs_background": "light"
     },
     "output_type": "display_data"
    }
   ],
   "source": [
    "sns.countplot(y = 'Owner_of_vehicle',data = df_eda)"
   ]
  },
  {
   "cell_type": "markdown",
   "metadata": {},
   "source": [
    "**Observation** : More than 10000 accidents are caused when the owner of the vehicle was riding"
   ]
  },
  {
   "cell_type": "code",
   "execution_count": 199,
   "metadata": {},
   "outputs": [],
   "source": [
    "df_eda['Time_of_day'].mask(df_eda['Time_of_day'] == 'Morning',df_eda['Time_of_day'].mode().iloc[0], inplace=True)"
   ]
  },
  {
   "cell_type": "code",
   "execution_count": 200,
   "metadata": {},
   "outputs": [
    {
     "data": {
      "text/plain": [
       "<AxesSubplot:xlabel='count', ylabel='Time_of_day'>"
      ]
     },
     "execution_count": 200,
     "metadata": {},
     "output_type": "execute_result"
    },
    {
     "data": {
      "image/png": "[encoded data removed]",
      "text/plain": [
       "<Figure size 432x288 with 1 Axes>"
      ]
     },
     "metadata": {
      "needs_background": "light"
     },
     "output_type": "display_data"
    }
   ],
   "source": [
    "sns.countplot(y = 'Time_of_day',data = df_eda)"
   ]
  },
  {
   "cell_type": "markdown",
   "metadata": {},
   "source": [
    "**Observation** : More than 7000 accidents accur in the evening"
   ]
  },
  {
   "cell_type": "code",
   "execution_count": null,
   "metadata": {},
   "outputs": [],
   "source": [
    "sns.catplot(x=\"Time_of_day\", y=\"Number_of_casualties\",kind = 'swarm',hue = 'Sex_of_driver', data=df2)"
   ]
  },
  {
   "cell_type": "markdown",
   "metadata": {},
   "source": [
    "### Pair Plot Bivariate Analysis"
   ]
  },
  {
   "cell_type": "code",
   "execution_count": 216,
   "metadata": {},
   "outputs": [
    {
     "data": {
      "text/plain": [
       "<seaborn.axisgrid.PairGrid at 0x1498e0317f0>"
      ]
     },
     "execution_count": 216,
     "metadata": {},
     "output_type": "execute_result"
    },
    {
     "data": {
      "image/png": "[encoded data removed]",
      "text/plain": [
       "<Figure size 540x540 with 12 Axes>"
      ]
     },
     "metadata": {
      "needs_background": "light"
     },
     "output_type": "display_data"
    }
   ],
   "source": [
    "sns.pairplot(data = df2)"
   ]
  },
  {
   "cell_type": "markdown",
   "metadata": {},
   "source": [
    "**Obervation** : No noticeable conclusion can be drawn from the pairplots"
   ]
  },
  {
   "cell_type": "markdown",
   "metadata": {},
   "source": [
    "### Correlation Analysis and Heatmaps"
   ]
  },
  {
   "cell_type": "code",
   "execution_count": 218,
   "metadata": {},
   "outputs": [
    {
     "data": {
      "text/html": [
       "<div>\n",
       "<style scoped>\n",
       "    .dataframe tbody tr th:only-of-type {\n",
       "        vertical-align: middle;\n",
       "    }\n",
       "\n",
       "    .dataframe tbody tr th {\n",
       "        vertical-align: top;\n",
       "    }\n",
       "\n",
       "    .dataframe thead th {\n",
       "        text-align: right;\n",
       "    }\n",
       "</style>\n",
       "<table border=\"1\" class=\"dataframe\">\n",
       "  <thead>\n",
       "    <tr style=\"text-align: right;\">\n",
       "      <th></th>\n",
       "      <th>Number_of_vehicles_involved</th>\n",
       "      <th>Number_of_casualties</th>\n",
       "      <th>Hours</th>\n",
       "    </tr>\n",
       "  </thead>\n",
       "  <tbody>\n",
       "    <tr>\n",
       "      <th>Number_of_vehicles_involved</th>\n",
       "      <td>1.000000</td>\n",
       "      <td>0.213427</td>\n",
       "      <td>0.023095</td>\n",
       "    </tr>\n",
       "    <tr>\n",
       "      <th>Number_of_casualties</th>\n",
       "      <td>0.213427</td>\n",
       "      <td>1.000000</td>\n",
       "      <td>0.051761</td>\n",
       "    </tr>\n",
       "    <tr>\n",
       "      <th>Hours</th>\n",
       "      <td>0.023095</td>\n",
       "      <td>0.051761</td>\n",
       "      <td>1.000000</td>\n",
       "    </tr>\n",
       "  </tbody>\n",
       "</table>\n",
       "</div>"
      ],
      "text/plain": [
       "                             Number_of_vehicles_involved  \\\n",
       "Number_of_vehicles_involved                     1.000000   \n",
       "Number_of_casualties                            0.213427   \n",
       "Hours                                           0.023095   \n",
       "\n",
       "                             Number_of_casualties     Hours  \n",
       "Number_of_vehicles_involved              0.213427  0.023095  \n",
       "Number_of_casualties                     1.000000  0.051761  \n",
       "Hours                                    0.051761  1.000000  "
      ]
     },
     "execution_count": 218,
     "metadata": {},
     "output_type": "execute_result"
    }
   ],
   "source": [
    "corr = df2.corr()\n",
    "corr"
   ]
  },
  {
   "cell_type": "code",
   "execution_count": 219,
   "metadata": {},
   "outputs": [
    {
     "data": {
      "image/png": "[encoded data removed]",
      "text/plain": [
       "<Figure size 432x432 with 2 Axes>"
      ]
     },
     "metadata": {
      "needs_background": "light"
     },
     "output_type": "display_data"
    }
   ],
   "source": [
    "plt.figure(figsize=(6,6))\n",
    "sns.heatmap(corr, cmap='RdBu_r', annot=True, vmax=1, vmin=-1)\n",
    "plt.show()"
   ]
  },
  {
   "cell_type": "markdown",
   "metadata": {},
   "source": [
    "**Observation** : None of the features are strongly corelated but we see a small corelation of 0.21 between no of causalities and no of vehicles involved in the accident"
   ]
  },
  {
   "cell_type": "markdown",
   "metadata": {},
   "source": [
    "### Are the Categorical Variables Corelated?"
   ]
  },
  {
   "cell_type": "markdown",
   "metadata": {},
   "source": [
    "**Pearson Correlation Coefficient**"
   ]
  },
  {
   "cell_type": "markdown",
   "metadata": {},
   "source": [
    "![](https://miro.medium.com/max/406/1*uOBToLtIFDfrNwnXLBv-7w.png)"
   ]
  },
  {
   "cell_type": "markdown",
   "metadata": {},
   "source": [
    "Disadvantage : Only used for numerical features"
   ]
  },
  {
   "cell_type": "markdown",
   "metadata": {},
   "source": [
    "**How to Tackle This?**"
   ]
  },
  {
   "cell_type": "markdown",
   "metadata": {},
   "source": [
    "One option is one hot encoding. Let's try it"
   ]
  },
  {
   "cell_type": "code",
   "execution_count": 245,
   "metadata": {},
   "outputs": [],
   "source": [
    "data_encoded = pd.get_dummies(df2)"
   ]
  },
  {
   "cell_type": "code",
   "execution_count": 246,
   "metadata": {},
   "outputs": [
    {
     "data": {
      "text/html": [
       "<div>\n",
       "<style scoped>\n",
       "    .dataframe tbody tr th:only-of-type {\n",
       "        vertical-align: middle;\n",
       "    }\n",
       "\n",
       "    .dataframe tbody tr th {\n",
       "        vertical-align: top;\n",
       "    }\n",
       "\n",
       "    .dataframe thead th {\n",
       "        text-align: right;\n",
       "    }\n",
       "</style>\n",
       "<table border=\"1\" class=\"dataframe\">\n",
       "  <thead>\n",
       "    <tr style=\"text-align: right;\">\n",
       "      <th></th>\n",
       "      <th>Number_of_vehicles_involved</th>\n",
       "      <th>Number_of_casualties</th>\n",
       "      <th>Hours</th>\n",
       "      <th>Day_of_week_Friday</th>\n",
       "      <th>Day_of_week_Monday</th>\n",
       "      <th>Day_of_week_Saturday</th>\n",
       "      <th>Day_of_week_Sunday</th>\n",
       "      <th>Day_of_week_Thursday</th>\n",
       "      <th>Day_of_week_Tuesday</th>\n",
       "      <th>Day_of_week_Wednesday</th>\n",
       "      <th>...</th>\n",
       "      <th>Cause_of_accident_Turnover</th>\n",
       "      <th>Cause_of_accident_Unknown</th>\n",
       "      <th>Accident_severity_Fatal injury</th>\n",
       "      <th>Accident_severity_Serious Injury</th>\n",
       "      <th>Accident_severity_Slight Injury</th>\n",
       "      <th>Time_of_day_Early Morning</th>\n",
       "      <th>Time_of_day_Morning</th>\n",
       "      <th>Time_of_day_Afternoon</th>\n",
       "      <th>Time_of_day_Evening</th>\n",
       "      <th>Time_of_day_Night</th>\n",
       "    </tr>\n",
       "  </thead>\n",
       "  <tbody>\n",
       "    <tr>\n",
       "      <th>0</th>\n",
       "      <td>2</td>\n",
       "      <td>2</td>\n",
       "      <td>17</td>\n",
       "      <td>0</td>\n",
       "      <td>1</td>\n",
       "      <td>0</td>\n",
       "      <td>0</td>\n",
       "      <td>0</td>\n",
       "      <td>0</td>\n",
       "      <td>0</td>\n",
       "      <td>...</td>\n",
       "      <td>0</td>\n",
       "      <td>0</td>\n",
       "      <td>0</td>\n",
       "      <td>0</td>\n",
       "      <td>1</td>\n",
       "      <td>0</td>\n",
       "      <td>0</td>\n",
       "      <td>0</td>\n",
       "      <td>1</td>\n",
       "      <td>0</td>\n",
       "    </tr>\n",
       "    <tr>\n",
       "      <th>1</th>\n",
       "      <td>2</td>\n",
       "      <td>2</td>\n",
       "      <td>17</td>\n",
       "      <td>0</td>\n",
       "      <td>1</td>\n",
       "      <td>0</td>\n",
       "      <td>0</td>\n",
       "      <td>0</td>\n",
       "      <td>0</td>\n",
       "      <td>0</td>\n",
       "      <td>...</td>\n",
       "      <td>0</td>\n",
       "      <td>0</td>\n",
       "      <td>0</td>\n",
       "      <td>0</td>\n",
       "      <td>1</td>\n",
       "      <td>0</td>\n",
       "      <td>0</td>\n",
       "      <td>0</td>\n",
       "      <td>1</td>\n",
       "      <td>0</td>\n",
       "    </tr>\n",
       "    <tr>\n",
       "      <th>2</th>\n",
       "      <td>2</td>\n",
       "      <td>2</td>\n",
       "      <td>17</td>\n",
       "      <td>0</td>\n",
       "      <td>1</td>\n",
       "      <td>0</td>\n",
       "      <td>0</td>\n",
       "      <td>0</td>\n",
       "      <td>0</td>\n",
       "      <td>0</td>\n",
       "      <td>...</td>\n",
       "      <td>0</td>\n",
       "      <td>0</td>\n",
       "      <td>0</td>\n",
       "      <td>1</td>\n",
       "      <td>0</td>\n",
       "      <td>0</td>\n",
       "      <td>0</td>\n",
       "      <td>0</td>\n",
       "      <td>1</td>\n",
       "      <td>0</td>\n",
       "    </tr>\n",
       "    <tr>\n",
       "      <th>3</th>\n",
       "      <td>2</td>\n",
       "      <td>2</td>\n",
       "      <td>1</td>\n",
       "      <td>0</td>\n",
       "      <td>0</td>\n",
       "      <td>0</td>\n",
       "      <td>1</td>\n",
       "      <td>0</td>\n",
       "      <td>0</td>\n",
       "      <td>0</td>\n",
       "      <td>...</td>\n",
       "      <td>0</td>\n",
       "      <td>0</td>\n",
       "      <td>0</td>\n",
       "      <td>0</td>\n",
       "      <td>1</td>\n",
       "      <td>1</td>\n",
       "      <td>0</td>\n",
       "      <td>0</td>\n",
       "      <td>0</td>\n",
       "      <td>0</td>\n",
       "    </tr>\n",
       "    <tr>\n",
       "      <th>4</th>\n",
       "      <td>2</td>\n",
       "      <td>2</td>\n",
       "      <td>1</td>\n",
       "      <td>0</td>\n",
       "      <td>0</td>\n",
       "      <td>0</td>\n",
       "      <td>1</td>\n",
       "      <td>0</td>\n",
       "      <td>0</td>\n",
       "      <td>0</td>\n",
       "      <td>...</td>\n",
       "      <td>0</td>\n",
       "      <td>0</td>\n",
       "      <td>0</td>\n",
       "      <td>0</td>\n",
       "      <td>1</td>\n",
       "      <td>1</td>\n",
       "      <td>0</td>\n",
       "      <td>0</td>\n",
       "      <td>0</td>\n",
       "      <td>0</td>\n",
       "    </tr>\n",
       "    <tr>\n",
       "      <th>...</th>\n",
       "      <td>...</td>\n",
       "      <td>...</td>\n",
       "      <td>...</td>\n",
       "      <td>...</td>\n",
       "      <td>...</td>\n",
       "      <td>...</td>\n",
       "      <td>...</td>\n",
       "      <td>...</td>\n",
       "      <td>...</td>\n",
       "      <td>...</td>\n",
       "      <td>...</td>\n",
       "      <td>...</td>\n",
       "      <td>...</td>\n",
       "      <td>...</td>\n",
       "      <td>...</td>\n",
       "      <td>...</td>\n",
       "      <td>...</td>\n",
       "      <td>...</td>\n",
       "      <td>...</td>\n",
       "      <td>...</td>\n",
       "      <td>...</td>\n",
       "    </tr>\n",
       "    <tr>\n",
       "      <th>12311</th>\n",
       "      <td>2</td>\n",
       "      <td>1</td>\n",
       "      <td>16</td>\n",
       "      <td>0</td>\n",
       "      <td>0</td>\n",
       "      <td>0</td>\n",
       "      <td>0</td>\n",
       "      <td>0</td>\n",
       "      <td>0</td>\n",
       "      <td>1</td>\n",
       "      <td>...</td>\n",
       "      <td>0</td>\n",
       "      <td>0</td>\n",
       "      <td>0</td>\n",
       "      <td>0</td>\n",
       "      <td>1</td>\n",
       "      <td>0</td>\n",
       "      <td>0</td>\n",
       "      <td>0</td>\n",
       "      <td>1</td>\n",
       "      <td>0</td>\n",
       "    </tr>\n",
       "    <tr>\n",
       "      <th>12312</th>\n",
       "      <td>2</td>\n",
       "      <td>1</td>\n",
       "      <td>18</td>\n",
       "      <td>0</td>\n",
       "      <td>0</td>\n",
       "      <td>0</td>\n",
       "      <td>1</td>\n",
       "      <td>0</td>\n",
       "      <td>0</td>\n",
       "      <td>0</td>\n",
       "      <td>...</td>\n",
       "      <td>0</td>\n",
       "      <td>0</td>\n",
       "      <td>0</td>\n",
       "      <td>0</td>\n",
       "      <td>1</td>\n",
       "      <td>0</td>\n",
       "      <td>0</td>\n",
       "      <td>0</td>\n",
       "      <td>1</td>\n",
       "      <td>0</td>\n",
       "    </tr>\n",
       "    <tr>\n",
       "      <th>12313</th>\n",
       "      <td>1</td>\n",
       "      <td>1</td>\n",
       "      <td>13</td>\n",
       "      <td>0</td>\n",
       "      <td>0</td>\n",
       "      <td>0</td>\n",
       "      <td>1</td>\n",
       "      <td>0</td>\n",
       "      <td>0</td>\n",
       "      <td>0</td>\n",
       "      <td>...</td>\n",
       "      <td>0</td>\n",
       "      <td>0</td>\n",
       "      <td>0</td>\n",
       "      <td>1</td>\n",
       "      <td>0</td>\n",
       "      <td>0</td>\n",
       "      <td>0</td>\n",
       "      <td>1</td>\n",
       "      <td>0</td>\n",
       "      <td>0</td>\n",
       "    </tr>\n",
       "    <tr>\n",
       "      <th>12314</th>\n",
       "      <td>2</td>\n",
       "      <td>1</td>\n",
       "      <td>13</td>\n",
       "      <td>0</td>\n",
       "      <td>0</td>\n",
       "      <td>0</td>\n",
       "      <td>1</td>\n",
       "      <td>0</td>\n",
       "      <td>0</td>\n",
       "      <td>0</td>\n",
       "      <td>...</td>\n",
       "      <td>0</td>\n",
       "      <td>0</td>\n",
       "      <td>0</td>\n",
       "      <td>0</td>\n",
       "      <td>1</td>\n",
       "      <td>0</td>\n",
       "      <td>0</td>\n",
       "      <td>1</td>\n",
       "      <td>0</td>\n",
       "      <td>0</td>\n",
       "    </tr>\n",
       "    <tr>\n",
       "      <th>12315</th>\n",
       "      <td>2</td>\n",
       "      <td>1</td>\n",
       "      <td>13</td>\n",
       "      <td>0</td>\n",
       "      <td>0</td>\n",
       "      <td>0</td>\n",
       "      <td>1</td>\n",
       "      <td>0</td>\n",
       "      <td>0</td>\n",
       "      <td>0</td>\n",
       "      <td>...</td>\n",
       "      <td>0</td>\n",
       "      <td>0</td>\n",
       "      <td>0</td>\n",
       "      <td>0</td>\n",
       "      <td>1</td>\n",
       "      <td>0</td>\n",
       "      <td>0</td>\n",
       "      <td>1</td>\n",
       "      <td>0</td>\n",
       "      <td>0</td>\n",
       "    </tr>\n",
       "  </tbody>\n",
       "</table>\n",
       "<p>12316 rows × 215 columns</p>\n",
       "</div>"
      ],
      "text/plain": [
       "       Number_of_vehicles_involved  Number_of_casualties  Hours  \\\n",
       "0                                2                     2     17   \n",
       "1                                2                     2     17   \n",
       "2                                2                     2     17   \n",
       "3                                2                     2      1   \n",
       "4                                2                     2      1   \n",
       "...                            ...                   ...    ...   \n",
       "12311                            2                     1     16   \n",
       "12312                            2                     1     18   \n",
       "12313                            1                     1     13   \n",
       "12314                            2                     1     13   \n",
       "12315                            2                     1     13   \n",
       "\n",
       "       Day_of_week_Friday  Day_of_week_Monday  Day_of_week_Saturday  \\\n",
       "0                       0                   1                     0   \n",
       "1                       0                   1                     0   \n",
       "2                       0                   1                     0   \n",
       "3                       0                   0                     0   \n",
       "4                       0                   0                     0   \n",
       "...                   ...                 ...                   ...   \n",
       "12311                   0                   0                     0   \n",
       "12312                   0                   0                     0   \n",
       "12313                   0                   0                     0   \n",
       "12314                   0                   0                     0   \n",
       "12315                   0                   0                     0   \n",
       "\n",
       "       Day_of_week_Sunday  Day_of_week_Thursday  Day_of_week_Tuesday  \\\n",
       "0                       0                     0                    0   \n",
       "1                       0                     0                    0   \n",
       "2                       0                     0                    0   \n",
       "3                       1                     0                    0   \n",
       "4                       1                     0                    0   \n",
       "...                   ...                   ...                  ...   \n",
       "12311                   0                     0                    0   \n",
       "12312                   1                     0                    0   \n",
       "12313                   1                     0                    0   \n",
       "12314                   1                     0                    0   \n",
       "12315                   1                     0                    0   \n",
       "\n",
       "       Day_of_week_Wednesday  ...  Cause_of_accident_Turnover  \\\n",
       "0                          0  ...                           0   \n",
       "1                          0  ...                           0   \n",
       "2                          0  ...                           0   \n",
       "3                          0  ...                           0   \n",
       "4                          0  ...                           0   \n",
       "...                      ...  ...                         ...   \n",
       "12311                      1  ...                           0   \n",
       "12312                      0  ...                           0   \n",
       "12313                      0  ...                           0   \n",
       "12314                      0  ...                           0   \n",
       "12315                      0  ...                           0   \n",
       "\n",
       "       Cause_of_accident_Unknown  Accident_severity_Fatal injury  \\\n",
       "0                              0                               0   \n",
       "1                              0                               0   \n",
       "2                              0                               0   \n",
       "3                              0                               0   \n",
       "4                              0                               0   \n",
       "...                          ...                             ...   \n",
       "12311                          0                               0   \n",
       "12312                          0                               0   \n",
       "12313                          0                               0   \n",
       "12314                          0                               0   \n",
       "12315                          0                               0   \n",
       "\n",
       "       Accident_severity_Serious Injury  Accident_severity_Slight Injury  \\\n",
       "0                                     0                                1   \n",
       "1                                     0                                1   \n",
       "2                                     1                                0   \n",
       "3                                     0                                1   \n",
       "4                                     0                                1   \n",
       "...                                 ...                              ...   \n",
       "12311                                 0                                1   \n",
       "12312                                 0                                1   \n",
       "12313                                 1                                0   \n",
       "12314                                 0                                1   \n",
       "12315                                 0                                1   \n",
       "\n",
       "       Time_of_day_Early Morning  Time_of_day_Morning  Time_of_day_Afternoon  \\\n",
       "0                              0                    0                      0   \n",
       "1                              0                    0                      0   \n",
       "2                              0                    0                      0   \n",
       "3                              1                    0                      0   \n",
       "4                              1                    0                      0   \n",
       "...                          ...                  ...                    ...   \n",
       "12311                          0                    0                      0   \n",
       "12312                          0                    0                      0   \n",
       "12313                          0                    0                      1   \n",
       "12314                          0                    0                      1   \n",
       "12315                          0                    0                      1   \n",
       "\n",
       "       Time_of_day_Evening  Time_of_day_Night  \n",
       "0                        1                  0  \n",
       "1                        1                  0  \n",
       "2                        1                  0  \n",
       "3                        0                  0  \n",
       "4                        0                  0  \n",
       "...                    ...                ...  \n",
       "12311                    1                  0  \n",
       "12312                    1                  0  \n",
       "12313                    0                  0  \n",
       "12314                    0                  0  \n",
       "12315                    0                  0  \n",
       "\n",
       "[12316 rows x 215 columns]"
      ]
     },
     "execution_count": 246,
     "metadata": {},
     "output_type": "execute_result"
    }
   ],
   "source": [
    "data_encoded"
   ]
  },
  {
   "cell_type": "code",
   "execution_count": 247,
   "metadata": {},
   "outputs": [],
   "source": [
    "corr = data_encoded.corr()"
   ]
  },
  {
   "cell_type": "code",
   "execution_count": 232,
   "metadata": {},
   "outputs": [
    {
     "data": {
      "image/png": "[encoded data removed]",
      "text/plain": [
       "<Figure size 432x432 with 2 Axes>"
      ]
     },
     "metadata": {
      "needs_background": "light"
     },
     "output_type": "display_data"
    }
   ],
   "source": [
    "plt.figure(figsize=(6,6))\n",
    "sns.heatmap(corr, cmap='RdBu_r', annot=True, vmax=1, vmin=-1)\n",
    "plt.show()"
   ]
  },
  {
   "cell_type": "markdown",
   "metadata": {},
   "source": [
    "It takes a long time to run, isn't it?\n",
    "\n",
    "Do we get any insights from the heatmap? No!"
   ]
  },
  {
   "cell_type": "markdown",
   "metadata": {},
   "source": [
    "What we need is something that will look like correlation, but will work with categorical values — or more formally, we’re looking for a measure of association between two categorical features. Introducing: Cramér’s V. It is based on a nominal variation of Pearson’s Chi-Square Test, and comes built-in with some great benefits:"
   ]
  },
  {
   "cell_type": "markdown",
   "metadata": {},
   "source": [
    "Like correlation, Cramer’s V is symmetrical — it is insensitive to swapping x and y"
   ]
  },
  {
   "cell_type": "markdown",
   "metadata": {},
   "source": [
    "### Cramer's V(Phi) Test"
   ]
  },
  {
   "cell_type": "markdown",
   "metadata": {},
   "source": [
    "Chi-Square Test"
   ]
  },
  {
   "cell_type": "markdown",
   "metadata": {},
   "source": [
    "![](https://wikimedia.org/api/rest_v1/media/math/render/svg/1ab35719428d2902cb4d6e364c8e09890b77fa11)"
   ]
  },
  {
   "cell_type": "markdown",
   "metadata": {},
   "source": [
    "Cramer Test"
   ]
  },
  {
   "cell_type": "markdown",
   "metadata": {},
   "source": [
    "![](https://wikimedia.org/api/rest_v1/media/math/render/svg/79743fa9927bec7afc2a06e36451d64155d8f4b8)"
   ]
  },
  {
   "cell_type": "markdown",
   "metadata": {},
   "source": [
    "k - no of columns\n",
    "r - no of rows"
   ]
  },
  {
   "cell_type": "code",
   "execution_count": 248,
   "metadata": {},
   "outputs": [],
   "source": [
    "from scipy.stats import chi2_contingency\n",
    "import numpy as np\n",
    "\n",
    "def cramers_V(var1,var2) :\n",
    "    crosstab =np.array(pd.crosstab(var1,var2, rownames=None, colnames=None)) # Cross table building\n",
    "    stat = chi2_contingency(crosstab)[0] # Keeping of the test statistic of the Chi2 test\n",
    "    obs = np.sum(crosstab) # Number of observations\n",
    "    mini = min(crosstab.shape)-1 # Take the minimum value between the columns and the rows of the cross table\n",
    "    return (stat/(obs*mini))\n"
   ]
  },
  {
   "cell_type": "code",
   "execution_count": null,
   "metadata": {},
   "outputs": [],
   "source": [
    "# rows= []\n",
    "\n",
    "# for var1 in data_encoded:\n",
    "#     col = []\n",
    "#     for var2 in data_encoded :\n",
    "#         cramers =cramers_V(data_encoded[var1], data_encoded[var2]) # Cramer's V test\n",
    "#         col.append(round(cramers,2)) # Keeping of the rounded value of the Cramer's V  \n",
    "#     rows.append(col)\n",
    "  \n",
    "# cramers_results = np.array(rows)\n",
    "# df = pd.DataFrame(cramers_results, columns = data_encoded.columns, index =data_encoded.columns)\n",
    "# df"
   ]
  },
  {
   "cell_type": "code",
   "execution_count": null,
   "metadata": {},
   "outputs": [],
   "source": [
    "# import seaborn as sns\n",
    "# import matplotlib.pyplot as plt\n",
    "\n",
    "# mask = np.zeros_like(df, dtype=np.bool)\n",
    "# mask[np.triu_indices_from(mask)] = True\n",
    "\n",
    "# with sns.axes_style(\"white\"):\n",
    "#     ax = sns.heatmap(df, mask=mask,vmin=0., vmax=1, square=True)\n",
    "\n",
    "# plt.show()\n"
   ]
  }
 ],
 "metadata": {
  "kernelspec": {
   "display_name": "Python 3",
   "language": "python",
   "name": "python3"
  },
  "language_info": {
   "codemirror_mode": {
    "name": "ipython",
    "version": 3
   },
   "file_extension": ".py",
   "mimetype": "text/x-python",
   "name": "python",
   "nbconvert_exporter": "python",
   "pygments_lexer": "ipython3",
   "version": "3.6.8"
  }
 },
 "nbformat": 4,
 "nbformat_minor": 4
}
